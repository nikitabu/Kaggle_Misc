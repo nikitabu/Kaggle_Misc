{
 "cells": [
  {
   "cell_type": "markdown",
   "metadata": {},
   "source": [
    "# Titanic Survivors Data Classification"
   ]
  },
  {
   "cell_type": "markdown",
   "metadata": {},
   "source": [
    "#### To Do\n",
    "- Optimize Age Segmentation\n",
    "- Choose which \"family\" features to keep or remove\n",
    "- Check if cabin letter is correlated with survival\n",
    "- Create Pipelines (with scaling as needed)\n",
    "- Do Xtrain,Xtest normalization seperately\n",
    "- Try geometric mean in ensemble\n",
    "- Try stacking and blending"
   ]
  },
  {
   "cell_type": "code",
   "execution_count": 30,
   "metadata": {
    "collapsed": false
   },
   "outputs": [
    {
     "data": {
      "text/html": [
       "<script>requirejs.config({paths: { 'plotly': ['https://cdn.plot.ly/plotly-latest.min']},});if(!window.Plotly) {{require(['plotly'],function(plotly) {window.Plotly=plotly;});}}</script>"
      ],
      "text/vnd.plotly.v1+html": [
       "<script>requirejs.config({paths: { 'plotly': ['https://cdn.plot.ly/plotly-latest.min']},});if(!window.Plotly) {{require(['plotly'],function(plotly) {window.Plotly=plotly;});}}</script>"
      ]
     },
     "metadata": {},
     "output_type": "display_data"
    },
    {
     "name": "stderr",
     "output_type": "stream",
     "text": [
      "Using Theano backend.\n"
     ]
    }
   ],
   "source": [
    "#######################################\n",
    "### Import Data Processing Packages ###\n",
    "#######################################\n",
    "\n",
    "import pandas            as pd;\n",
    "import numpy             as np;\n",
    "import seaborn           as sns;\n",
    "import matplotlib.pyplot as plt;\n",
    "\n",
    "%matplotlib inline\n",
    "\n",
    "import plotly.offline as py\n",
    "py.init_notebook_mode(connected=True)\n",
    "import plotly.graph_objs as go\n",
    "import plotly.tools as tls\n",
    "\n",
    "########################################\n",
    "### Import Machine Learning Packages ###\n",
    "########################################\n",
    "\n",
    "from sklearn.preprocessing   import StandardScaler;\n",
    "from sklearn.preprocessing   import PolynomialFeatures;\n",
    "\n",
    "from sklearn.model_selection import train_test_split, cross_val_predict, cross_val_score, GridSearchCV;\n",
    "from sklearn.metrics         import classification_report, confusion_matrix, mean_absolute_error, mean_squared_error;\n",
    "\n",
    "from sklearn.discriminant_analysis import LinearDiscriminantAnalysis;\n",
    "from sklearn.discriminant_analysis import QuadraticDiscriminantAnalysis;\n",
    "\n",
    "from sklearn.naive_bayes     import GaussianNB\n",
    "\n",
    "from sklearn.linear_model    import LinearRegression;\n",
    "from sklearn.linear_model    import LogisticRegression;\n",
    "from sklearn.linear_model    import Ridge;\n",
    "from sklearn.linear_model    import Lasso;\n",
    "\n",
    "from sklearn.neighbors       import KNeighborsClassifier;\n",
    "from sklearn.tree            import DecisionTreeClassifier;\n",
    "from sklearn.ensemble        import RandomForestClassifier;\n",
    "from sklearn.svm             import SVC;\n",
    "from sklearn.cluster         import KMeans;\n",
    "from sklearn.decomposition   import PCA;\n",
    "\n",
    "from sklearn.neural_network  import MLPClassifier;\n",
    "\n",
    "from sklearn.pipeline import Pipeline;\n",
    "\n",
    "import xgboost as xgb;\n",
    "\n",
    "from keras.models import Sequential\n",
    "from keras.layers import Dense , Dropout , Lambda, Flatten, Conv2D, MaxPooling2D\n",
    "from keras.optimizers import Adam ,RMSprop\n",
    "from keras.utils.np_utils import to_categorical\n",
    "\n",
    "########################\n",
    "### Import Data Sets ###\n",
    "########################\n",
    "\n",
    "from sklearn                 import datasets;"
   ]
  },
  {
   "cell_type": "code",
   "execution_count": 2,
   "metadata": {
    "collapsed": false
   },
   "outputs": [],
   "source": [
    "train_df = pd.read_csv('train.csv')\n",
    "test_df  = pd.read_csv('test.csv')\n",
    "\n",
    "# Convert to Pandas\n",
    "#df = pd.DataFrame(data=np.c_[digits['data'], digits['target']], columns=np.append(digits['feature_names'], 'target'))\n",
    "#df = pd.DataFrame(data=np.c_[digits['data'], digits['target']], columns=np.append(np.arange(1, 65, 1), 'target'))"
   ]
  },
  {
   "cell_type": "code",
   "execution_count": 29,
   "metadata": {
    "collapsed": false
   },
   "outputs": [
    {
     "data": {
      "text/html": [
       "<div>\n",
       "<table border=\"1\" class=\"dataframe\">\n",
       "  <thead>\n",
       "    <tr style=\"text-align: right;\">\n",
       "      <th></th>\n",
       "      <th>PassengerId</th>\n",
       "      <th>Survived</th>\n",
       "      <th>Pclass</th>\n",
       "      <th>Name</th>\n",
       "      <th>Sex</th>\n",
       "      <th>Age</th>\n",
       "      <th>SibSp</th>\n",
       "      <th>Parch</th>\n",
       "      <th>Ticket</th>\n",
       "      <th>Fare</th>\n",
       "      <th>Cabin</th>\n",
       "      <th>Embarked</th>\n",
       "    </tr>\n",
       "  </thead>\n",
       "  <tbody>\n",
       "    <tr>\n",
       "      <th>0</th>\n",
       "      <td>1</td>\n",
       "      <td>0</td>\n",
       "      <td>3</td>\n",
       "      <td>Braund, Mr. Owen Harris</td>\n",
       "      <td>male</td>\n",
       "      <td>22.0</td>\n",
       "      <td>1</td>\n",
       "      <td>0</td>\n",
       "      <td>A/5 21171</td>\n",
       "      <td>7.2500</td>\n",
       "      <td>NaN</td>\n",
       "      <td>S</td>\n",
       "    </tr>\n",
       "    <tr>\n",
       "      <th>1</th>\n",
       "      <td>2</td>\n",
       "      <td>1</td>\n",
       "      <td>1</td>\n",
       "      <td>Cumings, Mrs. John Bradley (Florence Briggs Th...</td>\n",
       "      <td>female</td>\n",
       "      <td>38.0</td>\n",
       "      <td>1</td>\n",
       "      <td>0</td>\n",
       "      <td>PC 17599</td>\n",
       "      <td>71.2833</td>\n",
       "      <td>C85</td>\n",
       "      <td>C</td>\n",
       "    </tr>\n",
       "    <tr>\n",
       "      <th>2</th>\n",
       "      <td>3</td>\n",
       "      <td>1</td>\n",
       "      <td>3</td>\n",
       "      <td>Heikkinen, Miss. Laina</td>\n",
       "      <td>female</td>\n",
       "      <td>26.0</td>\n",
       "      <td>0</td>\n",
       "      <td>0</td>\n",
       "      <td>STON/O2. 3101282</td>\n",
       "      <td>7.9250</td>\n",
       "      <td>NaN</td>\n",
       "      <td>S</td>\n",
       "    </tr>\n",
       "    <tr>\n",
       "      <th>3</th>\n",
       "      <td>4</td>\n",
       "      <td>1</td>\n",
       "      <td>1</td>\n",
       "      <td>Futrelle, Mrs. Jacques Heath (Lily May Peel)</td>\n",
       "      <td>female</td>\n",
       "      <td>35.0</td>\n",
       "      <td>1</td>\n",
       "      <td>0</td>\n",
       "      <td>113803</td>\n",
       "      <td>53.1000</td>\n",
       "      <td>C123</td>\n",
       "      <td>S</td>\n",
       "    </tr>\n",
       "    <tr>\n",
       "      <th>4</th>\n",
       "      <td>5</td>\n",
       "      <td>0</td>\n",
       "      <td>3</td>\n",
       "      <td>Allen, Mr. William Henry</td>\n",
       "      <td>male</td>\n",
       "      <td>35.0</td>\n",
       "      <td>0</td>\n",
       "      <td>0</td>\n",
       "      <td>373450</td>\n",
       "      <td>8.0500</td>\n",
       "      <td>NaN</td>\n",
       "      <td>S</td>\n",
       "    </tr>\n",
       "  </tbody>\n",
       "</table>\n",
       "</div>"
      ],
      "text/plain": [
       "   PassengerId  Survived  Pclass  \\\n",
       "0            1         0       3   \n",
       "1            2         1       1   \n",
       "2            3         1       3   \n",
       "3            4         1       1   \n",
       "4            5         0       3   \n",
       "\n",
       "                                                Name     Sex   Age  SibSp  \\\n",
       "0                            Braund, Mr. Owen Harris    male  22.0      1   \n",
       "1  Cumings, Mrs. John Bradley (Florence Briggs Th...  female  38.0      1   \n",
       "2                             Heikkinen, Miss. Laina  female  26.0      0   \n",
       "3       Futrelle, Mrs. Jacques Heath (Lily May Peel)  female  35.0      1   \n",
       "4                           Allen, Mr. William Henry    male  35.0      0   \n",
       "\n",
       "   Parch            Ticket     Fare Cabin Embarked  \n",
       "0      0         A/5 21171   7.2500   NaN        S  \n",
       "1      0          PC 17599  71.2833   C85        C  \n",
       "2      0  STON/O2. 3101282   7.9250   NaN        S  \n",
       "3      0            113803  53.1000  C123        S  \n",
       "4      0            373450   8.0500   NaN        S  "
      ]
     },
     "execution_count": 29,
     "metadata": {},
     "output_type": "execute_result"
    }
   ],
   "source": [
    "train_df.head()"
   ]
  },
  {
   "cell_type": "code",
   "execution_count": 23,
   "metadata": {
    "collapsed": false
   },
   "outputs": [
    {
     "data": {
      "text/html": [
       "<div>\n",
       "<table border=\"1\" class=\"dataframe\">\n",
       "  <thead>\n",
       "    <tr style=\"text-align: right;\">\n",
       "      <th></th>\n",
       "      <th>PassengerId</th>\n",
       "      <th>Pclass</th>\n",
       "      <th>Name</th>\n",
       "      <th>Sex</th>\n",
       "      <th>Age</th>\n",
       "      <th>SibSp</th>\n",
       "      <th>Parch</th>\n",
       "      <th>Ticket</th>\n",
       "      <th>Fare</th>\n",
       "      <th>Cabin</th>\n",
       "      <th>Embarked</th>\n",
       "    </tr>\n",
       "  </thead>\n",
       "  <tbody>\n",
       "    <tr>\n",
       "      <th>0</th>\n",
       "      <td>892</td>\n",
       "      <td>3</td>\n",
       "      <td>Kelly, Mr. James</td>\n",
       "      <td>male</td>\n",
       "      <td>34.5</td>\n",
       "      <td>0</td>\n",
       "      <td>0</td>\n",
       "      <td>330911</td>\n",
       "      <td>7.8292</td>\n",
       "      <td>NaN</td>\n",
       "      <td>Q</td>\n",
       "    </tr>\n",
       "    <tr>\n",
       "      <th>1</th>\n",
       "      <td>893</td>\n",
       "      <td>3</td>\n",
       "      <td>Wilkes, Mrs. James (Ellen Needs)</td>\n",
       "      <td>female</td>\n",
       "      <td>47.0</td>\n",
       "      <td>1</td>\n",
       "      <td>0</td>\n",
       "      <td>363272</td>\n",
       "      <td>7.0000</td>\n",
       "      <td>NaN</td>\n",
       "      <td>S</td>\n",
       "    </tr>\n",
       "    <tr>\n",
       "      <th>2</th>\n",
       "      <td>894</td>\n",
       "      <td>2</td>\n",
       "      <td>Myles, Mr. Thomas Francis</td>\n",
       "      <td>male</td>\n",
       "      <td>62.0</td>\n",
       "      <td>0</td>\n",
       "      <td>0</td>\n",
       "      <td>240276</td>\n",
       "      <td>9.6875</td>\n",
       "      <td>NaN</td>\n",
       "      <td>Q</td>\n",
       "    </tr>\n",
       "    <tr>\n",
       "      <th>3</th>\n",
       "      <td>895</td>\n",
       "      <td>3</td>\n",
       "      <td>Wirz, Mr. Albert</td>\n",
       "      <td>male</td>\n",
       "      <td>27.0</td>\n",
       "      <td>0</td>\n",
       "      <td>0</td>\n",
       "      <td>315154</td>\n",
       "      <td>8.6625</td>\n",
       "      <td>NaN</td>\n",
       "      <td>S</td>\n",
       "    </tr>\n",
       "    <tr>\n",
       "      <th>4</th>\n",
       "      <td>896</td>\n",
       "      <td>3</td>\n",
       "      <td>Hirvonen, Mrs. Alexander (Helga E Lindqvist)</td>\n",
       "      <td>female</td>\n",
       "      <td>22.0</td>\n",
       "      <td>1</td>\n",
       "      <td>1</td>\n",
       "      <td>3101298</td>\n",
       "      <td>12.2875</td>\n",
       "      <td>NaN</td>\n",
       "      <td>S</td>\n",
       "    </tr>\n",
       "  </tbody>\n",
       "</table>\n",
       "</div>"
      ],
      "text/plain": [
       "   PassengerId  Pclass                                          Name     Sex  \\\n",
       "0          892       3                              Kelly, Mr. James    male   \n",
       "1          893       3              Wilkes, Mrs. James (Ellen Needs)  female   \n",
       "2          894       2                     Myles, Mr. Thomas Francis    male   \n",
       "3          895       3                              Wirz, Mr. Albert    male   \n",
       "4          896       3  Hirvonen, Mrs. Alexander (Helga E Lindqvist)  female   \n",
       "\n",
       "    Age  SibSp  Parch   Ticket     Fare Cabin Embarked  \n",
       "0  34.5      0      0   330911   7.8292   NaN        Q  \n",
       "1  47.0      1      0   363272   7.0000   NaN        S  \n",
       "2  62.0      0      0   240276   9.6875   NaN        Q  \n",
       "3  27.0      0      0   315154   8.6625   NaN        S  \n",
       "4  22.0      1      1  3101298  12.2875   NaN        S  "
      ]
     },
     "execution_count": 23,
     "metadata": {},
     "output_type": "execute_result"
    }
   ],
   "source": [
    "test_df.head()"
   ]
  },
  {
   "cell_type": "code",
   "execution_count": 24,
   "metadata": {
    "collapsed": false
   },
   "outputs": [
    {
     "name": "stdout",
     "output_type": "stream",
     "text": [
      "<class 'pandas.core.frame.DataFrame'>\n",
      "RangeIndex: 891 entries, 0 to 890\n",
      "Data columns (total 12 columns):\n",
      "PassengerId    891 non-null int64\n",
      "Survived       891 non-null int64\n",
      "Pclass         891 non-null int64\n",
      "Name           891 non-null object\n",
      "Sex            891 non-null object\n",
      "Age            714 non-null float64\n",
      "SibSp          891 non-null int64\n",
      "Parch          891 non-null int64\n",
      "Ticket         891 non-null object\n",
      "Fare           891 non-null float64\n",
      "Cabin          204 non-null object\n",
      "Embarked       889 non-null object\n",
      "dtypes: float64(2), int64(5), object(5)\n",
      "memory usage: 83.6+ KB\n"
     ]
    }
   ],
   "source": [
    "train_df.info()"
   ]
  },
  {
   "cell_type": "code",
   "execution_count": 25,
   "metadata": {
    "collapsed": false
   },
   "outputs": [
    {
     "data": {
      "text/html": [
       "<div>\n",
       "<table border=\"1\" class=\"dataframe\">\n",
       "  <thead>\n",
       "    <tr style=\"text-align: right;\">\n",
       "      <th></th>\n",
       "      <th>PassengerId</th>\n",
       "      <th>Survived</th>\n",
       "      <th>Pclass</th>\n",
       "      <th>Age</th>\n",
       "      <th>SibSp</th>\n",
       "      <th>Parch</th>\n",
       "      <th>Fare</th>\n",
       "    </tr>\n",
       "  </thead>\n",
       "  <tbody>\n",
       "    <tr>\n",
       "      <th>count</th>\n",
       "      <td>891.000000</td>\n",
       "      <td>891.000000</td>\n",
       "      <td>891.000000</td>\n",
       "      <td>714.000000</td>\n",
       "      <td>891.000000</td>\n",
       "      <td>891.000000</td>\n",
       "      <td>891.000000</td>\n",
       "    </tr>\n",
       "    <tr>\n",
       "      <th>mean</th>\n",
       "      <td>446.000000</td>\n",
       "      <td>0.383838</td>\n",
       "      <td>2.308642</td>\n",
       "      <td>29.699118</td>\n",
       "      <td>0.523008</td>\n",
       "      <td>0.381594</td>\n",
       "      <td>32.204208</td>\n",
       "    </tr>\n",
       "    <tr>\n",
       "      <th>std</th>\n",
       "      <td>257.353842</td>\n",
       "      <td>0.486592</td>\n",
       "      <td>0.836071</td>\n",
       "      <td>14.526497</td>\n",
       "      <td>1.102743</td>\n",
       "      <td>0.806057</td>\n",
       "      <td>49.693429</td>\n",
       "    </tr>\n",
       "    <tr>\n",
       "      <th>min</th>\n",
       "      <td>1.000000</td>\n",
       "      <td>0.000000</td>\n",
       "      <td>1.000000</td>\n",
       "      <td>0.420000</td>\n",
       "      <td>0.000000</td>\n",
       "      <td>0.000000</td>\n",
       "      <td>0.000000</td>\n",
       "    </tr>\n",
       "    <tr>\n",
       "      <th>25%</th>\n",
       "      <td>223.500000</td>\n",
       "      <td>0.000000</td>\n",
       "      <td>2.000000</td>\n",
       "      <td>20.125000</td>\n",
       "      <td>0.000000</td>\n",
       "      <td>0.000000</td>\n",
       "      <td>7.910400</td>\n",
       "    </tr>\n",
       "    <tr>\n",
       "      <th>50%</th>\n",
       "      <td>446.000000</td>\n",
       "      <td>0.000000</td>\n",
       "      <td>3.000000</td>\n",
       "      <td>28.000000</td>\n",
       "      <td>0.000000</td>\n",
       "      <td>0.000000</td>\n",
       "      <td>14.454200</td>\n",
       "    </tr>\n",
       "    <tr>\n",
       "      <th>75%</th>\n",
       "      <td>668.500000</td>\n",
       "      <td>1.000000</td>\n",
       "      <td>3.000000</td>\n",
       "      <td>38.000000</td>\n",
       "      <td>1.000000</td>\n",
       "      <td>0.000000</td>\n",
       "      <td>31.000000</td>\n",
       "    </tr>\n",
       "    <tr>\n",
       "      <th>max</th>\n",
       "      <td>891.000000</td>\n",
       "      <td>1.000000</td>\n",
       "      <td>3.000000</td>\n",
       "      <td>80.000000</td>\n",
       "      <td>8.000000</td>\n",
       "      <td>6.000000</td>\n",
       "      <td>512.329200</td>\n",
       "    </tr>\n",
       "  </tbody>\n",
       "</table>\n",
       "</div>"
      ],
      "text/plain": [
       "       PassengerId    Survived      Pclass         Age       SibSp  \\\n",
       "count   891.000000  891.000000  891.000000  714.000000  891.000000   \n",
       "mean    446.000000    0.383838    2.308642   29.699118    0.523008   \n",
       "std     257.353842    0.486592    0.836071   14.526497    1.102743   \n",
       "min       1.000000    0.000000    1.000000    0.420000    0.000000   \n",
       "25%     223.500000    0.000000    2.000000   20.125000    0.000000   \n",
       "50%     446.000000    0.000000    3.000000   28.000000    0.000000   \n",
       "75%     668.500000    1.000000    3.000000   38.000000    1.000000   \n",
       "max     891.000000    1.000000    3.000000   80.000000    8.000000   \n",
       "\n",
       "            Parch        Fare  \n",
       "count  891.000000  891.000000  \n",
       "mean     0.381594   32.204208  \n",
       "std      0.806057   49.693429  \n",
       "min      0.000000    0.000000  \n",
       "25%      0.000000    7.910400  \n",
       "50%      0.000000   14.454200  \n",
       "75%      0.000000   31.000000  \n",
       "max      6.000000  512.329200  "
      ]
     },
     "execution_count": 25,
     "metadata": {},
     "output_type": "execute_result"
    }
   ],
   "source": [
    "train_df.describe()"
   ]
  },
  {
   "cell_type": "code",
   "execution_count": 26,
   "metadata": {
    "collapsed": false
   },
   "outputs": [
    {
     "data": {
      "text/html": [
       "<div>\n",
       "<table border=\"1\" class=\"dataframe\">\n",
       "  <thead>\n",
       "    <tr style=\"text-align: right;\">\n",
       "      <th></th>\n",
       "      <th>Pclass</th>\n",
       "      <th>Survived</th>\n",
       "    </tr>\n",
       "  </thead>\n",
       "  <tbody>\n",
       "    <tr>\n",
       "      <th>0</th>\n",
       "      <td>1</td>\n",
       "      <td>0.629630</td>\n",
       "    </tr>\n",
       "    <tr>\n",
       "      <th>1</th>\n",
       "      <td>2</td>\n",
       "      <td>0.472826</td>\n",
       "    </tr>\n",
       "    <tr>\n",
       "      <th>2</th>\n",
       "      <td>3</td>\n",
       "      <td>0.242363</td>\n",
       "    </tr>\n",
       "  </tbody>\n",
       "</table>\n",
       "</div>"
      ],
      "text/plain": [
       "   Pclass  Survived\n",
       "0       1  0.629630\n",
       "1       2  0.472826\n",
       "2       3  0.242363"
      ]
     },
     "execution_count": 26,
     "metadata": {},
     "output_type": "execute_result"
    }
   ],
   "source": [
    "train_df[['Pclass', 'Survived']].groupby(['Pclass'], as_index=False).mean().sort_values(by='Survived', ascending=False)"
   ]
  },
  {
   "cell_type": "code",
   "execution_count": 27,
   "metadata": {
    "collapsed": false
   },
   "outputs": [
    {
     "data": {
      "text/html": [
       "<div>\n",
       "<table border=\"1\" class=\"dataframe\">\n",
       "  <thead>\n",
       "    <tr style=\"text-align: right;\">\n",
       "      <th></th>\n",
       "      <th>Sex</th>\n",
       "      <th>Survived</th>\n",
       "    </tr>\n",
       "  </thead>\n",
       "  <tbody>\n",
       "    <tr>\n",
       "      <th>0</th>\n",
       "      <td>female</td>\n",
       "      <td>0.742038</td>\n",
       "    </tr>\n",
       "    <tr>\n",
       "      <th>1</th>\n",
       "      <td>male</td>\n",
       "      <td>0.188908</td>\n",
       "    </tr>\n",
       "  </tbody>\n",
       "</table>\n",
       "</div>"
      ],
      "text/plain": [
       "      Sex  Survived\n",
       "0  female  0.742038\n",
       "1    male  0.188908"
      ]
     },
     "execution_count": 27,
     "metadata": {},
     "output_type": "execute_result"
    }
   ],
   "source": [
    "train_df[[\"Sex\", \"Survived\"]].groupby(['Sex'], as_index=False).mean().sort_values(by='Survived', ascending=False)"
   ]
  },
  {
   "cell_type": "code",
   "execution_count": 28,
   "metadata": {
    "collapsed": false
   },
   "outputs": [
    {
     "data": {
      "text/html": [
       "<div>\n",
       "<table border=\"1\" class=\"dataframe\">\n",
       "  <thead>\n",
       "    <tr style=\"text-align: right;\">\n",
       "      <th></th>\n",
       "      <th>SibSp</th>\n",
       "      <th>Survived</th>\n",
       "    </tr>\n",
       "  </thead>\n",
       "  <tbody>\n",
       "    <tr>\n",
       "      <th>1</th>\n",
       "      <td>1</td>\n",
       "      <td>0.535885</td>\n",
       "    </tr>\n",
       "    <tr>\n",
       "      <th>2</th>\n",
       "      <td>2</td>\n",
       "      <td>0.464286</td>\n",
       "    </tr>\n",
       "    <tr>\n",
       "      <th>0</th>\n",
       "      <td>0</td>\n",
       "      <td>0.345395</td>\n",
       "    </tr>\n",
       "    <tr>\n",
       "      <th>3</th>\n",
       "      <td>3</td>\n",
       "      <td>0.250000</td>\n",
       "    </tr>\n",
       "    <tr>\n",
       "      <th>4</th>\n",
       "      <td>4</td>\n",
       "      <td>0.166667</td>\n",
       "    </tr>\n",
       "    <tr>\n",
       "      <th>5</th>\n",
       "      <td>5</td>\n",
       "      <td>0.000000</td>\n",
       "    </tr>\n",
       "    <tr>\n",
       "      <th>6</th>\n",
       "      <td>8</td>\n",
       "      <td>0.000000</td>\n",
       "    </tr>\n",
       "  </tbody>\n",
       "</table>\n",
       "</div>"
      ],
      "text/plain": [
       "   SibSp  Survived\n",
       "1      1  0.535885\n",
       "2      2  0.464286\n",
       "0      0  0.345395\n",
       "3      3  0.250000\n",
       "4      4  0.166667\n",
       "5      5  0.000000\n",
       "6      8  0.000000"
      ]
     },
     "execution_count": 28,
     "metadata": {},
     "output_type": "execute_result"
    }
   ],
   "source": [
    "train_df[[\"SibSp\", \"Survived\"]].groupby(['SibSp'], as_index=False).mean().sort_values(by='Survived', ascending=False)"
   ]
  },
  {
   "cell_type": "code",
   "execution_count": 29,
   "metadata": {
    "collapsed": false
   },
   "outputs": [
    {
     "data": {
      "text/html": [
       "<div>\n",
       "<table border=\"1\" class=\"dataframe\">\n",
       "  <thead>\n",
       "    <tr style=\"text-align: right;\">\n",
       "      <th></th>\n",
       "      <th>Parch</th>\n",
       "      <th>Survived</th>\n",
       "    </tr>\n",
       "  </thead>\n",
       "  <tbody>\n",
       "    <tr>\n",
       "      <th>3</th>\n",
       "      <td>3</td>\n",
       "      <td>0.600000</td>\n",
       "    </tr>\n",
       "    <tr>\n",
       "      <th>1</th>\n",
       "      <td>1</td>\n",
       "      <td>0.550847</td>\n",
       "    </tr>\n",
       "    <tr>\n",
       "      <th>2</th>\n",
       "      <td>2</td>\n",
       "      <td>0.500000</td>\n",
       "    </tr>\n",
       "    <tr>\n",
       "      <th>0</th>\n",
       "      <td>0</td>\n",
       "      <td>0.343658</td>\n",
       "    </tr>\n",
       "    <tr>\n",
       "      <th>5</th>\n",
       "      <td>5</td>\n",
       "      <td>0.200000</td>\n",
       "    </tr>\n",
       "    <tr>\n",
       "      <th>4</th>\n",
       "      <td>4</td>\n",
       "      <td>0.000000</td>\n",
       "    </tr>\n",
       "    <tr>\n",
       "      <th>6</th>\n",
       "      <td>6</td>\n",
       "      <td>0.000000</td>\n",
       "    </tr>\n",
       "  </tbody>\n",
       "</table>\n",
       "</div>"
      ],
      "text/plain": [
       "   Parch  Survived\n",
       "3      3  0.600000\n",
       "1      1  0.550847\n",
       "2      2  0.500000\n",
       "0      0  0.343658\n",
       "5      5  0.200000\n",
       "4      4  0.000000\n",
       "6      6  0.000000"
      ]
     },
     "execution_count": 29,
     "metadata": {},
     "output_type": "execute_result"
    }
   ],
   "source": [
    "train_df[[\"Parch\", \"Survived\"]].groupby(['Parch'], as_index=False).mean().sort_values(by='Survived', ascending=False)"
   ]
  },
  {
   "cell_type": "code",
   "execution_count": 30,
   "metadata": {
    "collapsed": false
   },
   "outputs": [
    {
     "data": {
      "text/html": [
       "<div>\n",
       "<table border=\"1\" class=\"dataframe\">\n",
       "  <thead>\n",
       "    <tr style=\"text-align: right;\">\n",
       "      <th></th>\n",
       "      <th>Embarked</th>\n",
       "      <th>Survived</th>\n",
       "    </tr>\n",
       "  </thead>\n",
       "  <tbody>\n",
       "    <tr>\n",
       "      <th>0</th>\n",
       "      <td>C</td>\n",
       "      <td>0.553571</td>\n",
       "    </tr>\n",
       "    <tr>\n",
       "      <th>1</th>\n",
       "      <td>Q</td>\n",
       "      <td>0.389610</td>\n",
       "    </tr>\n",
       "    <tr>\n",
       "      <th>2</th>\n",
       "      <td>S</td>\n",
       "      <td>0.336957</td>\n",
       "    </tr>\n",
       "  </tbody>\n",
       "</table>\n",
       "</div>"
      ],
      "text/plain": [
       "  Embarked  Survived\n",
       "0        C  0.553571\n",
       "1        Q  0.389610\n",
       "2        S  0.336957"
      ]
     },
     "execution_count": 30,
     "metadata": {},
     "output_type": "execute_result"
    }
   ],
   "source": [
    "train_df[[\"Embarked\", \"Survived\"]].dropna().groupby(['Embarked'], as_index=False).mean().sort_values(by='Survived', ascending=False)"
   ]
  },
  {
   "cell_type": "code",
   "execution_count": 50,
   "metadata": {
    "collapsed": false
   },
   "outputs": [
    {
     "name": "stdout",
     "output_type": "stream",
     "text": [
      "Survived      False\n",
      "Pclass        False\n",
      "Sex           False\n",
      "Age            True\n",
      "SibSp         False\n",
      "Parch         False\n",
      "Fare          False\n",
      "Embarked      False\n",
      "FamilySize    False\n",
      "IsAlone       False\n",
      "Title         False\n",
      "dtype: bool\n",
      "\n",
      "\n",
      "Pclass        False\n",
      "Sex           False\n",
      "Age            True\n",
      "SibSp         False\n",
      "Parch         False\n",
      "Fare          False\n",
      "Embarked      False\n",
      "FamilySize    False\n",
      "IsAlone       False\n",
      "Title         False\n",
      "dtype: bool\n"
     ]
    }
   ],
   "source": [
    "# Check for null entries\n",
    "print(train_df.isnull().any())\n",
    "print('\\n')\n",
    "print(test_df.isnull().any())"
   ]
  },
  {
   "cell_type": "code",
   "execution_count": 4,
   "metadata": {
    "collapsed": false
   },
   "outputs": [
    {
     "data": {
      "text/html": [
       "<div>\n",
       "<table border=\"1\" class=\"dataframe\">\n",
       "  <thead>\n",
       "    <tr style=\"text-align: right;\">\n",
       "      <th></th>\n",
       "      <th>Pclass</th>\n",
       "      <th>Sex</th>\n",
       "      <th>Age</th>\n",
       "      <th>Fare</th>\n",
       "      <th>Embarked</th>\n",
       "      <th>FamilySize</th>\n",
       "      <th>Title</th>\n",
       "    </tr>\n",
       "  </thead>\n",
       "  <tbody>\n",
       "    <tr>\n",
       "      <th>0</th>\n",
       "      <td>3</td>\n",
       "      <td>0</td>\n",
       "      <td>2.0</td>\n",
       "      <td>7.8292</td>\n",
       "      <td>2</td>\n",
       "      <td>1</td>\n",
       "      <td>1</td>\n",
       "    </tr>\n",
       "    <tr>\n",
       "      <th>1</th>\n",
       "      <td>3</td>\n",
       "      <td>1</td>\n",
       "      <td>2.0</td>\n",
       "      <td>7.0000</td>\n",
       "      <td>0</td>\n",
       "      <td>2</td>\n",
       "      <td>3</td>\n",
       "    </tr>\n",
       "    <tr>\n",
       "      <th>2</th>\n",
       "      <td>2</td>\n",
       "      <td>0</td>\n",
       "      <td>3.0</td>\n",
       "      <td>9.6875</td>\n",
       "      <td>2</td>\n",
       "      <td>1</td>\n",
       "      <td>1</td>\n",
       "    </tr>\n",
       "    <tr>\n",
       "      <th>3</th>\n",
       "      <td>3</td>\n",
       "      <td>0</td>\n",
       "      <td>1.0</td>\n",
       "      <td>8.6625</td>\n",
       "      <td>0</td>\n",
       "      <td>1</td>\n",
       "      <td>1</td>\n",
       "    </tr>\n",
       "    <tr>\n",
       "      <th>4</th>\n",
       "      <td>3</td>\n",
       "      <td>1</td>\n",
       "      <td>1.0</td>\n",
       "      <td>12.2875</td>\n",
       "      <td>0</td>\n",
       "      <td>3</td>\n",
       "      <td>3</td>\n",
       "    </tr>\n",
       "  </tbody>\n",
       "</table>\n",
       "</div>"
      ],
      "text/plain": [
       "   Pclass  Sex  Age     Fare  Embarked  FamilySize  Title\n",
       "0       3    0  2.0   7.8292         2           1      1\n",
       "1       3    1  2.0   7.0000         0           2      3\n",
       "2       2    0  3.0   9.6875         2           1      1\n",
       "3       3    0  1.0   8.6625         0           1      1\n",
       "4       3    1  1.0  12.2875         0           3      3"
      ]
     },
     "execution_count": 4,
     "metadata": {},
     "output_type": "execute_result"
    }
   ],
   "source": [
    "#####################\n",
    "### Preprocessing ###\n",
    "#####################\n",
    "\n",
    "test_df = pd.read_csv('test.csv')\n",
    "\n",
    "passengerid = test_df['PassengerId']\n",
    "\n",
    "# Create New Features\n",
    "test_df['FamilySize'] = test_df['SibSp'] + test_df['Parch'] + 1\n",
    "\n",
    "test_df['IsAlone'] = 0\n",
    "test_df.loc[test_df['FamilySize'] == 1, 'IsAlone'] = 1\n",
    "\n",
    "test_df['Title'] = test_df.Name.str.extract(' ([A-Za-z]+)\\.', expand=False)\n",
    "test_df['Title'] = test_df['Title'].replace(['Lady', 'Countess','Capt', 'Col', 'Don', 'Dr', 'Major', 'Rev', 'Sir', 'Jonkheer', 'Dona'], 'Rare')\n",
    "test_df['Title'] = test_df['Title'].replace('Mlle', 'Miss')\n",
    "test_df['Title'] = test_df['Title'].replace('Ms', 'Miss')\n",
    "test_df['Title'] = test_df['Title'].replace('Mme', 'Mrs')\n",
    "title_mapping = {\"Mr\": 1, \"Miss\": 2, \"Mrs\": 3, \"Master\": 4, \"Rare\": 5}\n",
    "test_df['Title'] = test_df['Title'].map(title_mapping)\n",
    "test_df['Title'] = test_df['Title'].fillna(0)\n",
    "\n",
    "test_df['AgeBand'] = pd.cut(test_df['Age'], 5)\n",
    "test_df.loc[ test_df['Age'] <= 16, 'Age'] = 0\n",
    "test_df.loc[(test_df['Age'] > 16) & (test_df['Age'] <= 32), 'Age'] = 1\n",
    "test_df.loc[(test_df['Age'] > 32) & (test_df['Age'] <= 48), 'Age'] = 2\n",
    "test_df.loc[(test_df['Age'] > 48) & (test_df['Age'] <= 64), 'Age'] = 3\n",
    "test_df.loc[ test_df['Age'] > 64, 'Age']\n",
    "test_df = test_df.drop(['AgeBand'], axis=1)\n",
    "\n",
    "# Remove Complicated Text Columns\n",
    "test_df = test_df.drop(['Name', 'Ticket', 'PassengerId', 'Cabin', 'SibSp', 'Parch', 'IsAlone'], axis=1)\n",
    "\n",
    "# Change Sex Column to Quantitative Data\n",
    "test_df['Sex']  = test_df['Sex'].map( {'female': 1, 'male': 0} ).astype(int)\n",
    "\n",
    "# Fill NaN with Median/Mode\n",
    "test_df['Age'] = test_df['Age'].fillna(np.median(test_df['Age'].dropna()))\n",
    "\n",
    "test_df['Fare'] = test_df['Fare'].fillna(np.median(test_df['Fare'].dropna()))\n",
    "\n",
    "freq_port = test_df.Embarked.dropna().mode()[0]\n",
    "test_df['Embarked'] = test_df['Embarked'].fillna(freq_port)\n",
    "test_df['Embarked'] = test_df['Embarked'].map( {'S': 0, 'C': 1, 'Q': 2} ).astype(int)\n",
    "\n",
    "# Check Head\n",
    "\n",
    "test_df.head()"
   ]
  },
  {
   "cell_type": "code",
   "execution_count": 3,
   "metadata": {
    "collapsed": false
   },
   "outputs": [
    {
     "data": {
      "text/html": [
       "<div>\n",
       "<table border=\"1\" class=\"dataframe\">\n",
       "  <thead>\n",
       "    <tr style=\"text-align: right;\">\n",
       "      <th></th>\n",
       "      <th>Survived</th>\n",
       "      <th>Pclass</th>\n",
       "      <th>Sex</th>\n",
       "      <th>Age</th>\n",
       "      <th>Fare</th>\n",
       "      <th>Embarked</th>\n",
       "      <th>FamilySize</th>\n",
       "      <th>Title</th>\n",
       "    </tr>\n",
       "  </thead>\n",
       "  <tbody>\n",
       "    <tr>\n",
       "      <th>0</th>\n",
       "      <td>0</td>\n",
       "      <td>3</td>\n",
       "      <td>0</td>\n",
       "      <td>1.0</td>\n",
       "      <td>7.2500</td>\n",
       "      <td>0</td>\n",
       "      <td>2</td>\n",
       "      <td>1</td>\n",
       "    </tr>\n",
       "    <tr>\n",
       "      <th>1</th>\n",
       "      <td>1</td>\n",
       "      <td>1</td>\n",
       "      <td>1</td>\n",
       "      <td>2.0</td>\n",
       "      <td>71.2833</td>\n",
       "      <td>1</td>\n",
       "      <td>2</td>\n",
       "      <td>3</td>\n",
       "    </tr>\n",
       "    <tr>\n",
       "      <th>2</th>\n",
       "      <td>1</td>\n",
       "      <td>3</td>\n",
       "      <td>1</td>\n",
       "      <td>1.0</td>\n",
       "      <td>7.9250</td>\n",
       "      <td>0</td>\n",
       "      <td>1</td>\n",
       "      <td>2</td>\n",
       "    </tr>\n",
       "    <tr>\n",
       "      <th>3</th>\n",
       "      <td>1</td>\n",
       "      <td>1</td>\n",
       "      <td>1</td>\n",
       "      <td>2.0</td>\n",
       "      <td>53.1000</td>\n",
       "      <td>0</td>\n",
       "      <td>2</td>\n",
       "      <td>3</td>\n",
       "    </tr>\n",
       "    <tr>\n",
       "      <th>4</th>\n",
       "      <td>0</td>\n",
       "      <td>3</td>\n",
       "      <td>0</td>\n",
       "      <td>2.0</td>\n",
       "      <td>8.0500</td>\n",
       "      <td>0</td>\n",
       "      <td>1</td>\n",
       "      <td>1</td>\n",
       "    </tr>\n",
       "  </tbody>\n",
       "</table>\n",
       "</div>"
      ],
      "text/plain": [
       "   Survived  Pclass  Sex  Age     Fare  Embarked  FamilySize  Title\n",
       "0         0       3    0  1.0   7.2500         0           2      1\n",
       "1         1       1    1  2.0  71.2833         1           2      3\n",
       "2         1       3    1  1.0   7.9250         0           1      2\n",
       "3         1       1    1  2.0  53.1000         0           2      3\n",
       "4         0       3    0  2.0   8.0500         0           1      1"
      ]
     },
     "execution_count": 3,
     "metadata": {},
     "output_type": "execute_result"
    }
   ],
   "source": [
    "#####################\n",
    "### Preprocessing ###\n",
    "#####################\n",
    "\n",
    "train_df = pd.read_csv('train.csv')\n",
    "\n",
    "# Create New Features\n",
    "train_df['FamilySize'] = train_df['SibSp'] + train_df['Parch'] + 1\n",
    "\n",
    "train_df['IsAlone'] = 0\n",
    "train_df.loc[train_df['FamilySize'] == 1, 'IsAlone'] = 1\n",
    "\n",
    "train_df['Title'] = train_df.Name.str.extract(' ([A-Za-z]+)\\.', expand=False)\n",
    "train_df['Title'] = train_df['Title'].replace(['Lady', 'Countess','Capt', 'Col', 'Don', 'Dr', 'Major', 'Rev', 'Sir', 'Jonkheer', 'Dona'], 'Rare')\n",
    "train_df['Title'] = train_df['Title'].replace('Mlle', 'Miss')\n",
    "train_df['Title'] = train_df['Title'].replace('Ms', 'Miss')\n",
    "train_df['Title'] = train_df['Title'].replace('Mme', 'Mrs')\n",
    "title_mapping = {\"Mr\": 1, \"Miss\": 2, \"Mrs\": 3, \"Master\": 4, \"Rare\": 5}\n",
    "train_df['Title'] = train_df['Title'].map(title_mapping)\n",
    "train_df['Title'] = train_df['Title'].fillna(0)\n",
    "\n",
    "train_df['AgeBand'] = pd.cut(train_df['Age'], 5)\n",
    "train_df.loc[ train_df['Age'] <= 16, 'Age'] = 0\n",
    "train_df.loc[(train_df['Age'] > 16) & (train_df['Age'] <= 32), 'Age'] = 1\n",
    "train_df.loc[(train_df['Age'] > 32) & (train_df['Age'] <= 48), 'Age'] = 2\n",
    "train_df.loc[(train_df['Age'] > 48) & (train_df['Age'] <= 64), 'Age'] = 3\n",
    "train_df.loc[ train_df['Age'] > 64, 'Age']\n",
    "train_df = train_df.drop(['AgeBand'], axis=1)\n",
    "    \n",
    "# Remove Complicated Text Columns\n",
    "train_df = train_df.drop(['Name', 'Ticket', 'PassengerId', 'Cabin', 'SibSp', 'Parch', 'IsAlone'], axis=1)\n",
    "\n",
    "# Change Sex Column to Quantitative Data\n",
    "train_df['Sex'] = train_df['Sex'].map( {'female': 1, 'male': 0} ).astype(int)\n",
    "\n",
    "# Fill NaN with Median/Mode\n",
    "train_df['Age'] = train_df['Age'].fillna(np.median(train_df['Age'].dropna()))\n",
    "\n",
    "train_df['Fare'] = train_df['Fare'].fillna(np.median(train_df['Fare'].dropna()))\n",
    "\n",
    "freq_port = train_df.Embarked.dropna().mode()[0]\n",
    "train_df['Embarked'] = train_df['Embarked'].fillna(freq_port)\n",
    "train_df['Embarked'] = train_df['Embarked'].map( {'S': 0, 'C': 1, 'Q': 2} ).astype(int)\n",
    "\n",
    "# Check Head\n",
    "\n",
    "train_df.head()"
   ]
  },
  {
   "cell_type": "code",
   "execution_count": 77,
   "metadata": {
    "collapsed": false
   },
   "outputs": [
    {
     "data": {
      "text/plain": [
       "<seaborn.axisgrid.PairGrid at 0x171a884d048>"
      ]
     },
     "execution_count": 77,
     "metadata": {},
     "output_type": "execute_result"
    },
    {
     "data": {
      "image/png": "[encoded data removed]",
      "text/plain": [
       "<matplotlib.figure.Figure at 0x171a884dba8>"
      ]
     },
     "metadata": {},
     "output_type": "display_data"
    }
   ],
   "source": [
    "sns.pairplot(data=train_df, hue='Survived')"
   ]
  },
  {
   "cell_type": "markdown",
   "metadata": {},
   "source": [
    "# Scale and Train,Test,Split"
   ]
  },
  {
   "cell_type": "code",
   "execution_count": 5,
   "metadata": {
    "collapsed": false,
    "scrolled": false
   },
   "outputs": [
    {
     "data": {
      "text/html": [
       "<div>\n",
       "<table border=\"1\" class=\"dataframe\">\n",
       "  <thead>\n",
       "    <tr style=\"text-align: right;\">\n",
       "      <th></th>\n",
       "      <th>Pclass</th>\n",
       "      <th>Sex</th>\n",
       "      <th>Age</th>\n",
       "      <th>Fare</th>\n",
       "      <th>Embarked</th>\n",
       "      <th>FamilySize</th>\n",
       "      <th>Title</th>\n",
       "    </tr>\n",
       "  </thead>\n",
       "  <tbody>\n",
       "    <tr>\n",
       "      <th>count</th>\n",
       "      <td>4.180000e+02</td>\n",
       "      <td>4.180000e+02</td>\n",
       "      <td>4.180000e+02</td>\n",
       "      <td>4.180000e+02</td>\n",
       "      <td>4.180000e+02</td>\n",
       "      <td>4.180000e+02</td>\n",
       "      <td>4.180000e+02</td>\n",
       "    </tr>\n",
       "    <tr>\n",
       "      <th>mean</th>\n",
       "      <td>-2.018587e-17</td>\n",
       "      <td>-1.859225e-17</td>\n",
       "      <td>-4.568382e-17</td>\n",
       "      <td>8.154030e-17</td>\n",
       "      <td>-2.231070e-17</td>\n",
       "      <td>-9.189884e-17</td>\n",
       "      <td>7.224418e-17</td>\n",
       "    </tr>\n",
       "    <tr>\n",
       "      <th>std</th>\n",
       "      <td>1.001198e+00</td>\n",
       "      <td>1.001198e+00</td>\n",
       "      <td>1.001198e+00</td>\n",
       "      <td>1.001198e+00</td>\n",
       "      <td>1.001198e+00</td>\n",
       "      <td>1.001198e+00</td>\n",
       "      <td>1.001198e+00</td>\n",
       "    </tr>\n",
       "    <tr>\n",
       "      <th>min</th>\n",
       "      <td>-1.505120e+00</td>\n",
       "      <td>-7.559289e-01</td>\n",
       "      <td>-3.312800e-01</td>\n",
       "      <td>-6.377637e-01</td>\n",
       "      <td>-6.778412e-01</td>\n",
       "      <td>-5.534426e-01</td>\n",
       "      <td>-7.380199e-01</td>\n",
       "    </tr>\n",
       "    <tr>\n",
       "      <th>25%</th>\n",
       "      <td>-1.505120e+00</td>\n",
       "      <td>-7.559289e-01</td>\n",
       "      <td>-1.276402e-01</td>\n",
       "      <td>-4.962194e-01</td>\n",
       "      <td>-6.778412e-01</td>\n",
       "      <td>-5.534426e-01</td>\n",
       "      <td>-7.380199e-01</td>\n",
       "    </tr>\n",
       "    <tr>\n",
       "      <th>50%</th>\n",
       "      <td>8.734819e-01</td>\n",
       "      <td>-7.559289e-01</td>\n",
       "      <td>-1.276402e-01</td>\n",
       "      <td>-3.786501e-01</td>\n",
       "      <td>-6.778412e-01</td>\n",
       "      <td>-5.534426e-01</td>\n",
       "      <td>-7.380199e-01</td>\n",
       "    </tr>\n",
       "    <tr>\n",
       "      <th>75%</th>\n",
       "      <td>8.734819e-01</td>\n",
       "      <td>1.322876e+00</td>\n",
       "      <td>7.599953e-02</td>\n",
       "      <td>-7.358230e-02</td>\n",
       "      <td>7.826620e-01</td>\n",
       "      <td>1.056429e-01</td>\n",
       "      <td>2.571166e-01</td>\n",
       "    </tr>\n",
       "    <tr>\n",
       "      <th>max</th>\n",
       "      <td>8.734819e-01</td>\n",
       "      <td>1.322876e+00</td>\n",
       "      <td>1.514534e+01</td>\n",
       "      <td>8.546519e+00</td>\n",
       "      <td>2.243165e+00</td>\n",
       "      <td>6.037412e+00</td>\n",
       "      <td>3.242526e+00</td>\n",
       "    </tr>\n",
       "  </tbody>\n",
       "</table>\n",
       "</div>"
      ],
      "text/plain": [
       "             Pclass           Sex           Age          Fare      Embarked  \\\n",
       "count  4.180000e+02  4.180000e+02  4.180000e+02  4.180000e+02  4.180000e+02   \n",
       "mean  -2.018587e-17 -1.859225e-17 -4.568382e-17  8.154030e-17 -2.231070e-17   \n",
       "std    1.001198e+00  1.001198e+00  1.001198e+00  1.001198e+00  1.001198e+00   \n",
       "min   -1.505120e+00 -7.559289e-01 -3.312800e-01 -6.377637e-01 -6.778412e-01   \n",
       "25%   -1.505120e+00 -7.559289e-01 -1.276402e-01 -4.962194e-01 -6.778412e-01   \n",
       "50%    8.734819e-01 -7.559289e-01 -1.276402e-01 -3.786501e-01 -6.778412e-01   \n",
       "75%    8.734819e-01  1.322876e+00  7.599953e-02 -7.358230e-02  7.826620e-01   \n",
       "max    8.734819e-01  1.322876e+00  1.514534e+01  8.546519e+00  2.243165e+00   \n",
       "\n",
       "         FamilySize         Title  \n",
       "count  4.180000e+02  4.180000e+02  \n",
       "mean  -9.189884e-17  7.224418e-17  \n",
       "std    1.001198e+00  1.001198e+00  \n",
       "min   -5.534426e-01 -7.380199e-01  \n",
       "25%   -5.534426e-01 -7.380199e-01  \n",
       "50%   -5.534426e-01 -7.380199e-01  \n",
       "75%    1.056429e-01  2.571166e-01  \n",
       "max    6.037412e+00  3.242526e+00  "
      ]
     },
     "execution_count": 5,
     "metadata": {},
     "output_type": "execute_result"
    }
   ],
   "source": [
    "# Scale features to mean = 1, std = 1\n",
    "\n",
    "train_scaler = StandardScaler();\n",
    "test_scaler  = StandardScaler();\n",
    "\n",
    "train_scaler.fit(train_df.drop('Survived', axis=1));\n",
    "test_scaler.fit(test_df);\n",
    "\n",
    "scaled_train = train_scaler.transform(train_df.drop('Survived', axis=1));\n",
    "scaled_test  = test_scaler.transform(test_df);\n",
    "\n",
    "df_feat = pd.DataFrame(scaled_test, columns=train_df.columns[1:])\n",
    "df_feat.describe()"
   ]
  },
  {
   "cell_type": "code",
   "execution_count": 6,
   "metadata": {
    "collapsed": false
   },
   "outputs": [],
   "source": [
    "X_train, X_test, y_train, y_test = train_test_split(scaled_train, train_df['Survived'], test_size=0.1);\n",
    "#X_train, X_test, y_train, y_test = train_test_split(train_df.drop('Survived', axis=1), train_df['Survived'], test_size=0.1);"
   ]
  },
  {
   "cell_type": "markdown",
   "metadata": {},
   "source": [
    "# K Nearest Neighbors"
   ]
  },
  {
   "cell_type": "code",
   "execution_count": 7,
   "metadata": {
    "collapsed": false
   },
   "outputs": [
    {
     "name": "stdout",
     "output_type": "stream",
     "text": [
      "Confusion Matrix\n",
      "[[50  6]\n",
      " [12 22]]\n",
      "\n",
      "\n",
      "Classification Report\n",
      "             precision    recall  f1-score   support\n",
      "\n",
      "          0       0.81      0.89      0.85        56\n",
      "          1       0.79      0.65      0.71        34\n",
      "\n",
      "avg / total       0.80      0.80      0.80        90\n",
      "\n",
      "\n",
      "\n",
      "Cross Validation Scores\n",
      "Accuracy: 0.81 (+/- 0.07)\n"
     ]
    }
   ],
   "source": [
    "knn = KNeighborsClassifier(algorithm='ball_tree', leaf_size=30, metric='minkowski',\n",
    "           metric_params=None, n_jobs=1, n_neighbors=5, p=2,\n",
    "           weights='uniform')\n",
    "\n",
    "knn.fit(X_train,y_train);\n",
    "\n",
    "pred = knn.predict(X_test);\n",
    "pred_knn = knn.predict(X_test);\n",
    "\n",
    "print(\"Confusion Matrix\")\n",
    "print(confusion_matrix(y_test, pred));\n",
    "print(\"\\n\")\n",
    "\n",
    "print(\"Classification Report\")\n",
    "print(classification_report(y_test, pred));\n",
    "print(\"\\n\")\n",
    "\n",
    "print(\"Cross Validation Scores\")\n",
    "scores = cross_val_score(knn, train_df.drop('Survived', axis=1), train_df['Survived'],  cv=10)\n",
    "print(\"Accuracy: %0.2f (+/- %0.2f)\" % (scores.mean(), scores.std() * 2))"
   ]
  },
  {
   "cell_type": "code",
   "execution_count": 21,
   "metadata": {
    "collapsed": false,
    "scrolled": false
   },
   "outputs": [
    {
     "name": "stdout",
     "output_type": "stream",
     "text": [
      "Best Score\n",
      "0.794007490637\n",
      "\n",
      "\n",
      "Best Estimator\n"
     ]
    },
    {
     "data": {
      "text/plain": [
       "KNeighborsClassifier(algorithm='ball_tree', leaf_size=30, metric='minkowski',\n",
       "           metric_params=None, n_jobs=1, n_neighbors=5, p=2,\n",
       "           weights='uniform')"
      ]
     },
     "execution_count": 21,
     "metadata": {},
     "output_type": "execute_result"
    }
   ],
   "source": [
    "param_grid = [{'n_neighbors': np.arange(1, 10),\n",
    "               'weights':     ['uniform', 'distance'],\n",
    "               'algorithm':   ['ball_tree', 'kd_tree', 'brute']\n",
    "              }]\n",
    "\n",
    "grid = GridSearchCV(knn, param_grid, cv=10)\n",
    "\n",
    "grid.fit(X_train, y_train)\n",
    "\n",
    "print('Best Score')\n",
    "print(grid.best_score_)\n",
    "print('\\n')\n",
    "\n",
    "#print('Mean Test Standard Deviations')\n",
    "#print(grid.cv_results_['std_train_score'])\n",
    "#print('\\n')\n",
    "\n",
    "print('Best Estimator')\n",
    "grid.best_estimator_"
   ]
  },
  {
   "cell_type": "code",
   "execution_count": 8,
   "metadata": {
    "collapsed": false
   },
   "outputs": [],
   "source": [
    "knn.fit(scaled_train, train_df['Survived'].values)\n",
    "\n",
    "submission_knn = pd.DataFrame({\n",
    "        \"PassengerId\": passengerid,\n",
    "        \"Survived\": knn.predict(test_df.values)\n",
    "    })\n",
    "\n",
    "#submission.to_csv('submissions/knn_submission.csv', index=False)"
   ]
  },
  {
   "cell_type": "code",
   "execution_count": 69,
   "metadata": {
    "collapsed": false
   },
   "outputs": [
    {
     "name": "stdout",
     "output_type": "stream",
     "text": [
      "Score = 0.61with no feature engineering\n",
      "Score = 0.56with feature engineering\n"
     ]
    }
   ],
   "source": [
    "print('Score = ' + str(0.61) + ' with no feature engineering')\n",
    "\n",
    "print('Score = ' + str(0.56) + ' with feature engineering')"
   ]
  },
  {
   "cell_type": "markdown",
   "metadata": {},
   "source": [
    "# Decision Tree"
   ]
  },
  {
   "cell_type": "code",
   "execution_count": 9,
   "metadata": {
    "collapsed": false
   },
   "outputs": [
    {
     "name": "stdout",
     "output_type": "stream",
     "text": [
      "Confusion Matrix\n",
      "[[43 13]\n",
      " [12 22]]\n",
      "\n",
      "\n",
      "Classification Report\n",
      "             precision    recall  f1-score   support\n",
      "\n",
      "          0       0.78      0.77      0.77        56\n",
      "          1       0.63      0.65      0.64        34\n",
      "\n",
      "avg / total       0.72      0.72      0.72        90\n",
      "\n",
      "\n",
      "\n",
      "Cross Validation Scores\n",
      "Accuracy: 0.81 (+/- 0.08)\n"
     ]
    }
   ],
   "source": [
    "dtree = DecisionTreeClassifier(class_weight='balanced', criterion='entropy',\n",
    "            max_depth=None, max_features=None, max_leaf_nodes=None,\n",
    "            min_impurity_split=1e-07, min_samples_leaf=1,\n",
    "            min_samples_split=2, min_weight_fraction_leaf=0.0,\n",
    "            presort=False, random_state=None, splitter='best')\n",
    "\n",
    "dtree.fit(X_train, y_train);\n",
    "\n",
    "pred = dtree.predict(X_test);\n",
    "pred_dtree = dtree.predict(X_test);\n",
    "\n",
    "print(\"Confusion Matrix\")\n",
    "print(confusion_matrix(y_test, pred));\n",
    "print(\"\\n\")\n",
    "\n",
    "print(\"Classification Report\")\n",
    "print(classification_report(y_test, pred));\n",
    "print(\"\\n\")\n",
    "\n",
    "print(\"Cross Validation Scores\")\n",
    "scores = cross_val_score(dtree, train_df.drop('Survived', axis=1), train_df['Survived'],  cv=10)\n",
    "print(\"Accuracy: %0.2f (+/- %0.2f)\" % (scores.mean(), scores.std() * 2))"
   ]
  },
  {
   "cell_type": "code",
   "execution_count": 24,
   "metadata": {
    "collapsed": false
   },
   "outputs": [
    {
     "name": "stdout",
     "output_type": "stream",
     "text": [
      "Best Score\n",
      "0.816479400749\n",
      "\n",
      "\n",
      "Best Parameters\n",
      "Best Estimator\n"
     ]
    },
    {
     "data": {
      "text/plain": [
       "DecisionTreeClassifier(class_weight='balanced', criterion='entropy',\n",
       "            max_depth=None, max_features=None, max_leaf_nodes=None,\n",
       "            min_impurity_split=1e-07, min_samples_leaf=1,\n",
       "            min_samples_split=2, min_weight_fraction_leaf=0.0,\n",
       "            presort=False, random_state=None, splitter='best')"
      ]
     },
     "execution_count": 24,
     "metadata": {},
     "output_type": "execute_result"
    }
   ],
   "source": [
    "param_grid = [{'criterion': ['gini', 'entropy'],\n",
    "               'splitter':  ['best', 'random'],\n",
    "               'max_features':  ['sqrt', 'log2', None],\n",
    "               'class_weight': [None, 'balanced']\n",
    "              }]\n",
    "\n",
    "grid = GridSearchCV(dtree, param_grid, cv=10)\n",
    "\n",
    "grid.fit(X_train, y_train)\n",
    "\n",
    "print('Best Score')\n",
    "print(grid.best_score_)\n",
    "print('\\n')\n",
    "\n",
    "#print('Mean Test Standard Deviations')\n",
    "#print(grid.cv_results_['std_train_score'])\n",
    "#print('\\n')\n",
    "\n",
    "print('Best Parameters')\n",
    "grid.best_params_\n",
    "\n",
    "print('Best Estimator')\n",
    "grid.best_estimator_"
   ]
  },
  {
   "cell_type": "code",
   "execution_count": 26,
   "metadata": {
    "collapsed": false
   },
   "outputs": [],
   "source": [
    "submission = pd.DataFrame({\n",
    "        \"PassengerId\": passengerid,\n",
    "        \"Survived\": dtree.predict(test_df.values)\n",
    "    })\n",
    "#submission.to_csv('submissions/dtree_submission.csv', index=False)"
   ]
  },
  {
   "cell_type": "code",
   "execution_count": 27,
   "metadata": {
    "collapsed": false
   },
   "outputs": [
    {
     "name": "stdout",
     "output_type": "stream",
     "text": [
      "Score = 0.36 with no feature engineering\n",
      "Score = 0.77 with larger test size, simplified features to reduce overfitting\n"
     ]
    }
   ],
   "source": [
    "print('Score = ' + str(0.36) + ' with no feature engineering')\n",
    "\n",
    "print('Score = ' + str(0.77) + ' with larger test size, simplified features to reduce overfitting')"
   ]
  },
  {
   "cell_type": "markdown",
   "metadata": {},
   "source": [
    "# Random Forest"
   ]
  },
  {
   "cell_type": "code",
   "execution_count": 10,
   "metadata": {
    "collapsed": false
   },
   "outputs": [
    {
     "name": "stdout",
     "output_type": "stream",
     "text": [
      "Confusion Matrix\n",
      "[[48  8]\n",
      " [13 21]]\n",
      "\n",
      "\n",
      "Classification Report\n",
      "             precision    recall  f1-score   support\n",
      "\n",
      "          0       0.79      0.86      0.82        56\n",
      "          1       0.72      0.62      0.67        34\n",
      "\n",
      "avg / total       0.76      0.77      0.76        90\n",
      "\n",
      "\n",
      "\n",
      "Cross Validation Scores\n",
      "Accuracy: 0.81 (+/- 0.04)\n"
     ]
    }
   ],
   "source": [
    "rfc = RandomForestClassifier(bootstrap=True, class_weight=None, criterion='gini',\n",
    "            max_depth=None, max_features=None, max_leaf_nodes=None,\n",
    "            min_impurity_split=1e-07, min_samples_leaf=1,\n",
    "            min_samples_split=2, min_weight_fraction_leaf=0.0,\n",
    "            n_estimators=9, n_jobs=1, oob_score=False, random_state=None,\n",
    "            verbose=0, warm_start=False)\n",
    "\n",
    "rfc.fit(X_train, y_train);\n",
    "\n",
    "pred = rfc.predict(X_test);\n",
    "pred_rfc = rfc.predict(X_test);\n",
    "\n",
    "print(\"Confusion Matrix\")\n",
    "print(confusion_matrix(y_test, pred));\n",
    "print(\"\\n\")\n",
    "\n",
    "print(\"Classification Report\")\n",
    "print(classification_report(y_test, pred));\n",
    "print(\"\\n\")\n",
    "\n",
    "print(\"Cross Validation Scores\")\n",
    "scores = cross_val_score(rfc, scaled_train, train_df['Survived'],  cv=5)\n",
    "#scores = cross_val_score(rfc, train_df.drop('Survived', axis=1), train_df['Survived'],  cv=10)\n",
    "print(\"Accuracy: %0.2f (+/- %0.2f)\" % (scores.mean(), scores.std() * 2))"
   ]
  },
  {
   "cell_type": "code",
   "execution_count": 36,
   "metadata": {
    "collapsed": false
   },
   "outputs": [
    {
     "name": "stdout",
     "output_type": "stream",
     "text": [
      "Best Score\n",
      "0.826038159371\n",
      "\n",
      "\n",
      "Best Parameters\n",
      "Best Estimator\n"
     ]
    },
    {
     "data": {
      "text/plain": [
       "RandomForestClassifier(bootstrap=True, class_weight=None, criterion='gini',\n",
       "            max_depth=None, max_features=None, max_leaf_nodes=None,\n",
       "            min_impurity_split=1e-07, min_samples_leaf=1,\n",
       "            min_samples_split=2, min_weight_fraction_leaf=0.0,\n",
       "            n_estimators=9, n_jobs=1, oob_score=False, random_state=None,\n",
       "            verbose=0, warm_start=False)"
      ]
     },
     "execution_count": 36,
     "metadata": {},
     "output_type": "execute_result"
    }
   ],
   "source": [
    "param_grid = [{'n_estimators': [1, 2, 3, 4, 5, 6, 7, 8, 9, 10],\n",
    "               'criterion': ['gini', 'entropy'],\n",
    "               'max_features':  ['sqrt', 'log2', None],\n",
    "               'class_weight': [None, 'balanced']\n",
    "              }]\n",
    "\n",
    "grid = GridSearchCV(rfc, param_grid, cv=10)\n",
    "\n",
    "grid.fit(scaled_train, train_df['Survived'].values)\n",
    "\n",
    "print('Best Score')\n",
    "print(grid.best_score_)\n",
    "print('\\n')\n",
    "\n",
    "#print('Mean Test Standard Deviations')\n",
    "#print(grid.cv_results_['std_train_score'])\n",
    "#print('\\n')\n",
    "\n",
    "print('Best Parameters')\n",
    "grid.best_params_\n",
    "\n",
    "print('Best Estimator')\n",
    "grid.best_estimator_"
   ]
  },
  {
   "cell_type": "code",
   "execution_count": 11,
   "metadata": {
    "collapsed": false
   },
   "outputs": [],
   "source": [
    "rfc.fit(scaled_train, train_df['Survived'].values)\n",
    "\n",
    "submission_rfc = pd.DataFrame({\n",
    "        \"PassengerId\": passengerid,\n",
    "        \"Survived\": rfc.predict(scaled_test)\n",
    "    })\n",
    "\n",
    "#submission.to_csv('submissions/rfc_submission.csv', index=False)"
   ]
  },
  {
   "cell_type": "code",
   "execution_count": 42,
   "metadata": {
    "collapsed": false
   },
   "outputs": [
    {
     "name": "stdout",
     "output_type": "stream",
     "text": [
      "Score = 0.63 with no feature engineering\n",
      "Score = 0.39 with some feature engineering\n",
      "Score = 0.77 with larger test size, simplified features to reduce overfitting\n",
      "Score = 0.74 with scaling\n"
     ]
    }
   ],
   "source": [
    "print('Score = ' + str(0.63) + ' with no feature engineering')\n",
    "\n",
    "print('Score = ' + str(0.39) + ' with some feature engineering')\n",
    "\n",
    "print('Score = ' + str(0.77) + ' with larger test size, simplified features to reduce overfitting')\n",
    "\n",
    "print('Score = ' + str(0.74) + ' with scaling')"
   ]
  },
  {
   "cell_type": "markdown",
   "metadata": {},
   "source": [
    "# XGBoost"
   ]
  },
  {
   "cell_type": "code",
   "execution_count": 12,
   "metadata": {
    "collapsed": false,
    "scrolled": true
   },
   "outputs": [
    {
     "name": "stdout",
     "output_type": "stream",
     "text": [
      "Confusion Matrix\n",
      "[[48  8]\n",
      " [10 24]]\n",
      "\n",
      "\n",
      "Classification Report\n",
      "             precision    recall  f1-score   support\n",
      "\n",
      "          0       0.83      0.86      0.84        56\n",
      "          1       0.75      0.71      0.73        34\n",
      "\n",
      "avg / total       0.80      0.80      0.80        90\n",
      "\n",
      "\n",
      "\n",
      "Cross Validation Scores\n",
      "Accuracy: 0.85 (+/- 0.08)\n"
     ]
    }
   ],
   "source": [
    "gbm = xgb.XGBClassifier(base_score=0.5, colsample_bylevel=1, colsample_bytree=1,\n",
    "       gamma=0, learning_rate=0.5, max_delta_step=0, max_depth=2,\n",
    "       min_child_weight=1, missing=None, n_estimators=80, nthread=-1,\n",
    "       objective='binary:logistic', reg_alpha=0, reg_lambda=1,\n",
    "       scale_pos_weight=1, seed=0, silent=False, subsample=1)\n",
    "\n",
    "gbm.fit(X_train, y_train)\n",
    "\n",
    "pred = gbm.predict(X_test)\n",
    "pred_gbm = gbm.predict(X_test)\n",
    "\n",
    "print(\"Confusion Matrix\")\n",
    "print(confusion_matrix(y_test, pred));\n",
    "print(\"\\n\")\n",
    "\n",
    "print(\"Classification Report\")\n",
    "print(classification_report(y_test, pred));\n",
    "print(\"\\n\")\n",
    "\n",
    "print(\"Cross Validation Scores\")\n",
    "scores = cross_val_score(gbm, train_df.drop('Survived', axis=1), train_df['Survived'],  cv=10)\n",
    "print(\"Accuracy: %0.2f (+/- %0.2f)\" % (scores.mean(), scores.std() * 2))"
   ]
  },
  {
   "cell_type": "code",
   "execution_count": 57,
   "metadata": {
    "collapsed": false
   },
   "outputs": [
    {
     "data": {
      "text/plain": [
       "array([  20.,   40.,   60.,   80.,  100.,  120.,  140.,  160.,  180.,  200.])"
      ]
     },
     "execution_count": 57,
     "metadata": {},
     "output_type": "execute_result"
    }
   ],
   "source": [
    "np.linspace(20, 200, 10)"
   ]
  },
  {
   "cell_type": "code",
   "execution_count": 59,
   "metadata": {
    "collapsed": false,
    "scrolled": false
   },
   "outputs": [
    {
     "name": "stdout",
     "output_type": "stream",
     "text": [
      "Best Score\n",
      "0.849607182941\n",
      "\n",
      "\n",
      "Best Parameters\n",
      "Best Estimator\n"
     ]
    },
    {
     "data": {
      "text/plain": [
       "XGBClassifier(base_score=0.5, colsample_bylevel=1, colsample_bytree=1,\n",
       "       gamma=0, learning_rate=0.5, max_delta_step=0, max_depth=2,\n",
       "       min_child_weight=1, missing=None, n_estimators=80, nthread=-1,\n",
       "       objective='binary:logistic', reg_alpha=0, reg_lambda=1,\n",
       "       scale_pos_weight=1, seed=0, silent=False, subsample=1)"
      ]
     },
     "execution_count": 59,
     "metadata": {},
     "output_type": "execute_result"
    }
   ],
   "source": [
    "param_grid = [{'max_depth': np.linspace(1, 5, 5, dtype=int),\n",
    "               'n_estimators': np.linspace(20, 200, 10, dtype=int),\n",
    "               'learning_rate': np.linspace(0.1, 1, 10)\n",
    "              }]\n",
    "\n",
    "#param_grid = [{'max_depth': [1, 3, 5],\n",
    "#               'n_estimators': [100, 300, 500],\n",
    "#               'learning_rate': [0.1, 0.3, 0.5]\n",
    "#              }]\n",
    "\n",
    "grid = GridSearchCV(gbm, param_grid, cv=10)\n",
    "\n",
    "grid.fit(scaled_train, train_df['Survived'].values)\n",
    "#grid.fit(X_train, y_train)\n",
    "\n",
    "print('Best Score')\n",
    "print(grid.best_score_)\n",
    "print('\\n')\n",
    "\n",
    "#print('Mean Test Standard Deviations')\n",
    "#print(grid.cv_results_['std_train_score'])\n",
    "#print('\\n')\n",
    "\n",
    "print('Best Parameters')\n",
    "grid.best_params_\n",
    "\n",
    "print('Best Estimator')\n",
    "grid.best_estimator_"
   ]
  },
  {
   "cell_type": "code",
   "execution_count": 13,
   "metadata": {
    "collapsed": false
   },
   "outputs": [],
   "source": [
    "gbm.fit(scaled_train, train_df['Survived'].values)\n",
    "\n",
    "submission_gbm = pd.DataFrame({\n",
    "        \"PassengerId\": passengerid,\n",
    "        \"Survived\": gbm.predict(scaled_test)\n",
    "    })\n",
    "\n",
    "#submission.to_csv('submissions/gbm_submission.csv', index=False)"
   ]
  },
  {
   "cell_type": "code",
   "execution_count": 55,
   "metadata": {
    "collapsed": false
   },
   "outputs": [
    {
     "name": "stdout",
     "output_type": "stream",
     "text": [
      "Score = 0.77 with some gridsearch\n"
     ]
    }
   ],
   "source": [
    "print('Score = ' + str(0.77) + ' with some gridsearch')"
   ]
  },
  {
   "cell_type": "markdown",
   "metadata": {},
   "source": [
    "# Support Vector Machine"
   ]
  },
  {
   "cell_type": "code",
   "execution_count": 14,
   "metadata": {
    "collapsed": false
   },
   "outputs": [
    {
     "name": "stdout",
     "output_type": "stream",
     "text": [
      "Confusion Matrix\n",
      "[[49  7]\n",
      " [13 21]]\n",
      "\n",
      "\n",
      "Classification Report\n",
      "             precision    recall  f1-score   support\n",
      "\n",
      "          0       0.79      0.88      0.83        56\n",
      "          1       0.75      0.62      0.68        34\n",
      "\n",
      "avg / total       0.78      0.78      0.77        90\n",
      "\n",
      "\n",
      "\n",
      "Cross Validation Scores\n",
      "Accuracy: 0.83 (+/- 0.06)\n"
     ]
    }
   ],
   "source": [
    "svc_model = SVC(C=1, cache_size=200, class_weight=None, coef0=0.0,\n",
    "  decision_function_shape=None, degree=3, gamma='auto', kernel='rbf',\n",
    "  max_iter=-1, probability=False, random_state=None, shrinking=True,\n",
    "  tol=0.001, verbose=False)\n",
    "\n",
    "svc_model.fit(X_train, y_train)\n",
    "\n",
    "pred = svc_model.predict(X_test);\n",
    "pred_svc = svc_model.predict(X_test);\n",
    "\n",
    "print(\"Confusion Matrix\")\n",
    "print(confusion_matrix(y_test,pred));\n",
    "print(\"\\n\")\n",
    "\n",
    "print(\"Classification Report\")\n",
    "print(classification_report(y_test,pred));\n",
    "print(\"\\n\")\n",
    "\n",
    "print(\"Cross Validation Scores\")\n",
    "scores = cross_val_score(svc_model, scaled_train, train_df['Survived'],  cv=5)\n",
    "#scores = cross_val_score(svc_model, train_df.drop('Survived', axis=1), train_df['Survived'],  cv=5)\n",
    "print(\"Accuracy: %0.2f (+/- %0.2f)\" % (scores.mean(), scores.std() * 2))"
   ]
  },
  {
   "cell_type": "code",
   "execution_count": 17,
   "metadata": {
    "collapsed": false
   },
   "outputs": [
    {
     "name": "stdout",
     "output_type": "stream",
     "text": [
      "Best Score\n",
      "0.83164983165\n",
      "\n",
      "\n",
      "Best Parameters\n",
      "Best Estimator\n"
     ]
    },
    {
     "data": {
      "text/plain": [
       "SVC(C=1, cache_size=200, class_weight=None, coef0=0.0,\n",
       "  decision_function_shape=None, degree=3, gamma='auto', kernel='rbf',\n",
       "  max_iter=-1, probability=False, random_state=None, shrinking=True,\n",
       "  tol=0.001, verbose=False)"
      ]
     },
     "execution_count": 17,
     "metadata": {},
     "output_type": "execute_result"
    }
   ],
   "source": [
    "param_grid = [{'C': [0.001, 0.1, 1, 10, 100],\n",
    "               'kernel': ['linear', 'rbf']\n",
    "              }]\n",
    "\n",
    "grid = GridSearchCV(svc_model, param_grid, cv=5)\n",
    "\n",
    "grid.fit(scaled_train, train_df['Survived'].values)\n",
    "\n",
    "print('Best Score')\n",
    "print(grid.best_score_)\n",
    "print('\\n')\n",
    "\n",
    "#print('Mean Test Standard Deviations')\n",
    "#print(grid.cv_results_['std_train_score'])\n",
    "#print('\\n')\n",
    "\n",
    "print('Best Parameters')\n",
    "grid.best_params_\n",
    "\n",
    "print('Best Estimator')\n",
    "grid.best_estimator_"
   ]
  },
  {
   "cell_type": "code",
   "execution_count": 15,
   "metadata": {
    "collapsed": false
   },
   "outputs": [],
   "source": [
    "svc_model.fit(scaled_train, train_df['Survived'].values)\n",
    "\n",
    "submission_svc = pd.DataFrame({\n",
    "        \"PassengerId\": passengerid,\n",
    "        \"Survived\": svc_model.predict(scaled_test)\n",
    "    })\n",
    "\n",
    "#submission.to_csv('submissions/svc_submission.csv', index=False)"
   ]
  },
  {
   "cell_type": "code",
   "execution_count": 26,
   "metadata": {
    "collapsed": false
   },
   "outputs": [
    {
     "name": "stdout",
     "output_type": "stream",
     "text": [
      "Score = 0.63 with no feature engineering\n",
      "Score = 0.77 with larger test size, simplified features to reduce overfitting, scaled train/test\n"
     ]
    }
   ],
   "source": [
    "print('Score = ' + str(0.63) + ' with no feature engineering')\n",
    "\n",
    "print('Score = ' + str(0.77) + ' with larger test size, simplified features to reduce overfitting, scaled train/test')"
   ]
  },
  {
   "cell_type": "markdown",
   "metadata": {},
   "source": [
    "# K Means Clustering"
   ]
  },
  {
   "cell_type": "code",
   "execution_count": 16,
   "metadata": {
    "collapsed": false
   },
   "outputs": [
    {
     "name": "stdout",
     "output_type": "stream",
     "text": [
      "Confusion Matrix\n",
      "[[ 0  0 56]\n",
      " [ 0  0 34]\n",
      " [ 0  0  0]]\n",
      "\n",
      "\n",
      "Classification Report\n",
      "             precision    recall  f1-score   support\n",
      "\n",
      "          0       0.00      0.00      0.00        56\n",
      "          1       0.00      0.00      0.00        34\n",
      "          5       0.00      0.00      0.00         0\n",
      "\n",
      "avg / total       0.00      0.00      0.00        90\n",
      "\n",
      "\n",
      "\n",
      "Cross Validation Scores\n"
     ]
    },
    {
     "name": "stderr",
     "output_type": "stream",
     "text": [
      "C:\\ProgramData\\Anaconda3\\lib\\site-packages\\sklearn\\metrics\\classification.py:1113: UndefinedMetricWarning:\n",
      "\n",
      "Precision and F-score are ill-defined and being set to 0.0 in labels with no predicted samples.\n",
      "\n",
      "C:\\ProgramData\\Anaconda3\\lib\\site-packages\\sklearn\\metrics\\classification.py:1115: UndefinedMetricWarning:\n",
      "\n",
      "Recall and F-score are ill-defined and being set to 0.0 in labels with no true samples.\n",
      "\n"
     ]
    },
    {
     "name": "stdout",
     "output_type": "stream",
     "text": [
      "Accuracy: -182.52 (+/- 62.99)\n"
     ]
    }
   ],
   "source": [
    "kmeans = KMeans();\n",
    "\n",
    "kmeans.fit(train_df.drop('Survived', axis=1));\n",
    "\n",
    "pred = kmeans.predict(X_test);\n",
    "pred_kmeans = kmeans.predict(X_test);\n",
    "\n",
    "print(\"Confusion Matrix\")\n",
    "print(confusion_matrix(y_test, pred));\n",
    "print(\"\\n\")\n",
    "\n",
    "print(\"Classification Report\")\n",
    "print(classification_report(y_test, pred));\n",
    "print(\"\\n\")\n",
    "\n",
    "print(\"Cross Validation Scores\")\n",
    "scores = cross_val_score(kmeans, scaled_train, train_df['Survived'],  cv=10)\n",
    "print(\"Accuracy: %0.2f (+/- %0.2f)\" % (scores.mean(), scores.std() * 2))"
   ]
  },
  {
   "cell_type": "code",
   "execution_count": null,
   "metadata": {
    "collapsed": true
   },
   "outputs": [],
   "source": []
  },
  {
   "cell_type": "markdown",
   "metadata": {},
   "source": [
    "# Naive Bayes"
   ]
  },
  {
   "cell_type": "code",
   "execution_count": 17,
   "metadata": {
    "collapsed": false
   },
   "outputs": [
    {
     "name": "stdout",
     "output_type": "stream",
     "text": [
      "Confusion Matrix\n",
      "[[45 11]\n",
      " [13 21]]\n",
      "\n",
      "\n",
      "Classification Report\n",
      "             precision    recall  f1-score   support\n",
      "\n",
      "          0       0.78      0.80      0.79        56\n",
      "          1       0.66      0.62      0.64        34\n",
      "\n",
      "avg / total       0.73      0.73      0.73        90\n",
      "\n",
      "\n",
      "\n",
      "Cross Validation Scores\n",
      "Accuracy: 0.80 (+/- 0.03)\n"
     ]
    }
   ],
   "source": [
    "gnb = GaussianNB()\n",
    "\n",
    "gnb.fit(X_train, y_train)\n",
    "\n",
    "pred = gnb.predict(X_test);\n",
    "pred_gnb = gnb.predict(X_test);\n",
    "\n",
    "print(\"Confusion Matrix\")\n",
    "print(confusion_matrix(y_test, pred));\n",
    "print(\"\\n\")\n",
    "\n",
    "print(\"Classification Report\")\n",
    "print(classification_report(y_test, pred));\n",
    "print(\"\\n\")\n",
    "\n",
    "print(\"Cross Validation Scores\")\n",
    "scores = cross_val_score(gnb, train_df.drop('Survived', axis=1), train_df['Survived'],  cv=10)\n",
    "print(\"Accuracy: %0.2f (+/- %0.2f)\" % (scores.mean(), scores.std() * 2))"
   ]
  },
  {
   "cell_type": "code",
   "execution_count": 18,
   "metadata": {
    "collapsed": true
   },
   "outputs": [],
   "source": [
    "gnb.fit(scaled_train, train_df['Survived'].values)\n",
    "\n",
    "submission_gnb = pd.DataFrame({\n",
    "        \"PassengerId\": passengerid,\n",
    "        \"Survived\": gnb.predict(scaled_test)\n",
    "    })\n",
    "\n",
    "#submission.to_csv('submissions/svc_submission.csv', index=False)"
   ]
  },
  {
   "cell_type": "markdown",
   "metadata": {},
   "source": [
    "# Linear Discriminant Analysis"
   ]
  },
  {
   "cell_type": "code",
   "execution_count": 19,
   "metadata": {
    "collapsed": false
   },
   "outputs": [
    {
     "name": "stdout",
     "output_type": "stream",
     "text": [
      "Confusion Matrix\n",
      "[[47  9]\n",
      " [16 18]]\n",
      "\n",
      "\n",
      "Classification Report\n",
      "             precision    recall  f1-score   support\n",
      "\n",
      "          0       0.75      0.84      0.79        56\n",
      "          1       0.67      0.53      0.59        34\n",
      "\n",
      "avg / total       0.72      0.72      0.71        90\n",
      "\n",
      "\n",
      "\n",
      "Cross Validation Scores\n",
      "Accuracy: 0.80 (+/- 0.05)\n"
     ]
    }
   ],
   "source": [
    "lda = LinearDiscriminantAnalysis()\n",
    "\n",
    "lda.fit(X_train, y_train)\n",
    "\n",
    "pred = lda.predict(X_test);\n",
    "pred_lda = lda.predict(X_test);\n",
    "\n",
    "print(\"Confusion Matrix\")\n",
    "print(confusion_matrix(y_test, pred));\n",
    "print(\"\\n\")\n",
    "\n",
    "print(\"Classification Report\")\n",
    "print(classification_report(y_test, pred));\n",
    "print(\"\\n\")\n",
    "\n",
    "print(\"Cross Validation Scores\")\n",
    "scores = cross_val_score(lda, train_df.drop('Survived', axis=1), train_df['Survived'],  cv=10)\n",
    "print(\"Accuracy: %0.2f (+/- %0.2f)\" % (scores.mean(), scores.std() * 2))"
   ]
  },
  {
   "cell_type": "code",
   "execution_count": 20,
   "metadata": {
    "collapsed": true
   },
   "outputs": [],
   "source": [
    "lda.fit(scaled_train, train_df['Survived'].values)\n",
    "\n",
    "submission_lda = pd.DataFrame({\n",
    "        \"PassengerId\": passengerid,\n",
    "        \"Survived\": lda.predict(scaled_test)\n",
    "    })\n",
    "\n",
    "#submission.to_csv('submissions/svc_submission.csv', index=False)"
   ]
  },
  {
   "cell_type": "markdown",
   "metadata": {},
   "source": [
    "# Quadratic Discriminant Analysis"
   ]
  },
  {
   "cell_type": "code",
   "execution_count": 69,
   "metadata": {
    "collapsed": false
   },
   "outputs": [
    {
     "name": "stdout",
     "output_type": "stream",
     "text": [
      "Confusion Matrix\n",
      "[[44 12]\n",
      " [14 20]]\n",
      "\n",
      "\n",
      "Classification Report\n",
      "             precision    recall  f1-score   support\n",
      "\n",
      "          0       0.76      0.79      0.77        56\n",
      "          1       0.62      0.59      0.61        34\n",
      "\n",
      "avg / total       0.71      0.71      0.71        90\n",
      "\n",
      "\n",
      "\n",
      "Cross Validation Scores\n",
      "Accuracy: 0.81 (+/- 0.05)\n"
     ]
    }
   ],
   "source": [
    "qda = QuadraticDiscriminantAnalysis()\n",
    "\n",
    "qda.fit(X_train, y_train)\n",
    "\n",
    "pred = qda.predict(X_test);\n",
    "pred_qda = qda.predict(X_test);\n",
    "\n",
    "print(\"Confusion Matrix\")\n",
    "print(confusion_matrix(y_test, pred));\n",
    "print(\"\\n\")\n",
    "\n",
    "print(\"Classification Report\")\n",
    "print(classification_report(y_test, pred));\n",
    "print(\"\\n\")\n",
    "\n",
    "print(\"Cross Validation Scores\")\n",
    "scores = cross_val_score(qda, train_df.drop('Survived', axis=1), train_df['Survived'],  cv=10)\n",
    "print(\"Accuracy: %0.2f (+/- %0.2f)\" % (scores.mean(), scores.std() * 2))"
   ]
  },
  {
   "cell_type": "code",
   "execution_count": 70,
   "metadata": {
    "collapsed": true
   },
   "outputs": [],
   "source": [
    "submission_qda = pd.DataFrame({\n",
    "        \"PassengerId\": passengerid,\n",
    "        \"Survived\": qda.predict(test_df.values)\n",
    "    })\n",
    "\n",
    "#submission.to_csv('submissions/clf_submission.csv', index=False)"
   ]
  },
  {
   "cell_type": "markdown",
   "metadata": {},
   "source": [
    "# Logistic Regression"
   ]
  },
  {
   "cell_type": "code",
   "execution_count": 22,
   "metadata": {
    "collapsed": false
   },
   "outputs": [
    {
     "name": "stdout",
     "output_type": "stream",
     "text": [
      "Confusion Matrix\n",
      "[[48  8]\n",
      " [16 18]]\n",
      "\n",
      "\n",
      "Classification Report\n",
      "             precision    recall  f1-score   support\n",
      "\n",
      "          0       0.75      0.86      0.80        56\n",
      "          1       0.69      0.53      0.60        34\n",
      "\n",
      "avg / total       0.73      0.73      0.72        90\n",
      "\n",
      "\n",
      "\n",
      "Cross Validation Scores\n",
      "Accuracy: 0.80 (+/- 0.05)\n"
     ]
    }
   ],
   "source": [
    "lr = LogisticRegression()\n",
    "\n",
    "lr.fit(X_train, y_train)\n",
    "\n",
    "pred = lr.predict(X_test);\n",
    "pred_lr = lr.predict(X_test);\n",
    "\n",
    "print(\"Confusion Matrix\")\n",
    "print(confusion_matrix(y_test, pred));\n",
    "print(\"\\n\")\n",
    "\n",
    "print(\"Classification Report\")\n",
    "print(classification_report(y_test, pred));\n",
    "print(\"\\n\")\n",
    "\n",
    "print(\"Cross Validation Scores\")\n",
    "scores = cross_val_score(lr, train_df.drop('Survived', axis=1), train_df['Survived'],  cv=10)\n",
    "print(\"Accuracy: %0.2f (+/- %0.2f)\" % (scores.mean(), scores.std() * 2))"
   ]
  },
  {
   "cell_type": "code",
   "execution_count": 66,
   "metadata": {
    "collapsed": false
   },
   "outputs": [
    {
     "name": "stdout",
     "output_type": "stream",
     "text": [
      "Best Score\n",
      "0.797752808989\n",
      "\n",
      "\n",
      "Best Parameters\n",
      "Best Estimator\n"
     ]
    },
    {
     "data": {
      "text/plain": [
       "LogisticRegression(C=1.0, class_weight=None, dual=False, fit_intercept=True,\n",
       "          intercept_scaling=1, max_iter=100, multi_class='ovr', n_jobs=1,\n",
       "          penalty='l2', random_state=None, solver='newton-cg', tol=0.0001,\n",
       "          verbose=0, warm_start=False)"
      ]
     },
     "execution_count": 66,
     "metadata": {},
     "output_type": "execute_result"
    }
   ],
   "source": [
    "param_grid = [{'solver': ['newton-cg', 'lbfgs', 'liblinear', 'sag']\n",
    "              }]\n",
    "\n",
    "grid = GridSearchCV(lr, param_grid, cv=10)\n",
    "\n",
    "grid.fit(X_train, y_train)\n",
    "\n",
    "print('Best Score')\n",
    "print(grid.best_score_)\n",
    "print('\\n')\n",
    "\n",
    "#print('Mean Test Standard Deviations')\n",
    "#print(grid.cv_results_['std_train_score'])\n",
    "#print('\\n')\n",
    "\n",
    "print('Best Parameters')\n",
    "grid.best_params_\n",
    "\n",
    "print('Best Estimator')\n",
    "grid.best_estimator_"
   ]
  },
  {
   "cell_type": "code",
   "execution_count": 23,
   "metadata": {
    "collapsed": true
   },
   "outputs": [],
   "source": [
    "lr.fit(scaled_train, train_df['Survived'].values)\n",
    "\n",
    "submission_lr = pd.DataFrame({\n",
    "        \"PassengerId\": passengerid,\n",
    "        \"Survived\": lr.predict(scaled_test)\n",
    "    })\n",
    "\n",
    "#submission.to_csv('submissions/svc_submission.csv', index=False)"
   ]
  },
  {
   "cell_type": "markdown",
   "metadata": {},
   "source": [
    "# Principle Component Analysis with Logistic Regression"
   ]
  },
  {
   "cell_type": "code",
   "execution_count": 47,
   "metadata": {
    "collapsed": false
   },
   "outputs": [
    {
     "name": "stdout",
     "output_type": "stream",
     "text": [
      "(927, 949)\n",
      "(927, 949)\n",
      "(879723,)\n",
      "879723\n",
      "1\n"
     ]
    }
   ],
   "source": [
    "print(xx.shape)\n",
    "print(yy.shape)\n",
    "print(Z.shape)\n",
    "print(927*949)\n",
    "print(np.asarray(Z).ndim)"
   ]
  },
  {
   "cell_type": "code",
   "execution_count": null,
   "metadata": {
    "collapsed": false
   },
   "outputs": [],
   "source": [
    "pca = PCA(n_components=2);\n",
    "pca.fit(scaled_df);\n",
    "\n",
    "x_pca = pca.transform(scaled_df);\n",
    "\n",
    "print(scaled_df.shape);\n",
    "print(x_pca.shape);\n",
    "\n",
    "kmeans = KMeans(n_clusters=10, n_init=10);\n",
    "kmeans.fit(x_pca);\n",
    "\n",
    "# Step size of the mesh. Decrease to increase the quality of the VQ.\n",
    "h = .02     # point in the mesh [x_min, x_max]x[y_min, y_max].\n",
    "\n",
    "# Plot the decision boundary. For that, we will assign a color to each\n",
    "x_min, x_max = x_pca[:, 0].min() - 1, x_pca[:, 0].max() + 1\n",
    "y_min, y_max = x_pca[:, 1].min() - 1, x_pca[:, 1].max() + 1\n",
    "xx, yy = np.meshgrid(np.arange(x_min, x_max, h), np.arange(y_min, y_max, h))\n",
    "\n",
    "# Obtain labels for each point in mesh. Use last trained model.\n",
    "Z = kmeans.predict(np.c_[xx.ravel(), yy.ravel()])\n",
    "Z = Z.reshape(xx.shape)\n",
    "\n",
    "# Plot\n",
    "\n",
    "fig  = plt.figure(figsize=(6, 4), dpi=100);\n",
    "\n",
    "axes1 = fig.add_subplot(111); \n",
    "\n",
    "axes1.scatter(x_pca[:,0], x_pca[:,1], c=df['target'], cmap='plasma', s=6)\n",
    "axes1.set_xlabel('First Principal Component')\n",
    "axes1.set_ylabel('Second Principal Component')\n",
    "#axes1.set_xlim(-8, 10)\n",
    "#axes1.set_ylim(-8, 10)\n",
    "axes1.grid(False)\n",
    "\n",
    "plt.imshow(Z, interpolation='nearest', extent=(xx.min(), xx.max(), yy.min(), yy.max()),\n",
    "           cmap=plt.cm.Paired, aspect='auto', origin='lower')\n",
    "\n",
    "centroids = kmeans.cluster_centers_\n",
    "axes1.scatter(centroids[:, 0], centroids[:, 1], marker='.', s=99, linewidths=5, color='black', zorder=10)\n",
    "axes1.scatter(centroids[:, 0], centroids[:, 1], marker='.', s=25, linewidths=5, color='white', zorder=10)"
   ]
  },
  {
   "cell_type": "code",
   "execution_count": 37,
   "metadata": {
    "collapsed": false
   },
   "outputs": [
    {
     "data": {
      "text/plain": [
       "Index(['alcohol', 'malic_acid', 'ash', 'ash_alcalinity', 'magnesium',\n",
       "       'phenols', 'flavanoids', 'non_flavanoid_phenols', 'proanthocyanins',\n",
       "       'color_intensity', 'hue', 'OD', 'proline'],\n",
       "      dtype='object')"
      ]
     },
     "execution_count": 37,
     "metadata": {},
     "output_type": "execute_result"
    }
   ],
   "source": [
    "wine.drop('class', axis=1).columns"
   ]
  },
  {
   "cell_type": "code",
   "execution_count": 40,
   "metadata": {
    "collapsed": false
   },
   "outputs": [
    {
     "data": {
      "text/plain": [
       "<matplotlib.axes._subplots.AxesSubplot at 0x1e4b1c7fac8>"
      ]
     },
     "execution_count": 40,
     "metadata": {},
     "output_type": "execute_result"
    },
    {
     "data": {
      "image/png": "[encoded data removed]",
      "text/plain": [
       "<matplotlib.figure.Figure at 0x1e4b1c7fc18>"
      ]
     },
     "metadata": {},
     "output_type": "display_data"
    }
   ],
   "source": [
    "df_comp = pd.DataFrame(pca.components_, columns=['alcohol', 'malic_acid', 'ash', 'ash_alcalinity', 'magnesium', 'phenols', 'flavanoids', \n",
    "                            'non_flavanoid_phenols', 'proanthocyanins', 'color_intensity', 'hue', 'OD', 'proline'])\n",
    "\n",
    "fig  = plt.figure(figsize=(8, 4), dpi=100);\n",
    "\n",
    "axes1 = fig.add_subplot(111); \n",
    "\n",
    "sns.heatmap(df_comp, cmap='seismic', ax=axes1)"
   ]
  },
  {
   "cell_type": "code",
   "execution_count": 39,
   "metadata": {
    "collapsed": false
   },
   "outputs": [],
   "source": [
    "df = pd.DataFrame(data=np.array([x_pca[:,0],x_pca[:,1]]).transpose())"
   ]
  },
  {
   "cell_type": "code",
   "execution_count": null,
   "metadata": {
    "collapsed": false
   },
   "outputs": [],
   "source": [
    "X_train, X_test, y_train, y_test = train_test_split(df, df['target'], test_size=0.5);"
   ]
  },
  {
   "cell_type": "code",
   "execution_count": null,
   "metadata": {
    "collapsed": false,
    "scrolled": false
   },
   "outputs": [],
   "source": [
    "knn = KNeighborsClassifier(n_neighbors=1);\n",
    "\n",
    "knn.fit(X_train,y_train);\n",
    "\n",
    "pred = knn.predict(X_test);\n",
    "\n",
    "print(\"Confusion Matrix\")\n",
    "print(confusion_matrix(y_test,pred));\n",
    "print(\"\\n\")\n",
    "\n",
    "print(\"Classification Report\")\n",
    "print(classification_report(y_test,pred));\n",
    "print(\"\\n\")\n",
    "\n",
    "print(\"Cross Validation Scores\")\n",
    "scores = cross_val_score(knn, scaled_df, df['target'],  cv=10)\n",
    "print(\"Accuracy: %0.2f (+/- %0.2f)\" % (scores.mean(), scores.std() * 2))"
   ]
  },
  {
   "cell_type": "code",
   "execution_count": 36,
   "metadata": {
    "collapsed": false
   },
   "outputs": [
    {
     "data": {
      "text/plain": [
       "<matplotlib.text.Text at 0x183c914cf98>"
      ]
     },
     "execution_count": 36,
     "metadata": {},
     "output_type": "execute_result"
    },
    {
     "data": {
      "image/png": "[encoded data removed]",
      "text/plain": [
       "<matplotlib.figure.Figure at 0x183c8a3ae48>"
      ]
     },
     "metadata": {},
     "output_type": "display_data"
    }
   ],
   "source": [
    "logistic = LogisticRegression()\n",
    "\n",
    "pca = PCA()\n",
    "pipe = Pipeline(steps=[('pca', pca), ('logistic', logistic)])\n",
    "\n",
    "digits = datasets.load_digits()\n",
    "X_digits = digits.data\n",
    "y_digits = digits.target\n",
    "\n",
    "pca.fit(X_digits)\n",
    "\n",
    "plt.figure(1, figsize=(6, 4), dpi=100)\n",
    "plt.clf()\n",
    "plt.axes([.2, .2, .7, .7])\n",
    "plt.plot(pca.explained_variance_, linewidth=2)\n",
    "plt.axis('tight')\n",
    "plt.xlabel('n_components')\n",
    "plt.ylabel('explained_variance_')"
   ]
  },
  {
   "cell_type": "code",
   "execution_count": 37,
   "metadata": {
    "collapsed": false
   },
   "outputs": [
    {
     "data": {
      "image/png": "[encoded data removed]",
      "text/plain": [
       "<matplotlib.figure.Figure at 0x183c90dd0f0>"
      ]
     },
     "metadata": {},
     "output_type": "display_data"
    }
   ],
   "source": [
    "n_components = [20, 40, 64]\n",
    "Cs = np.logspace(-4, 4, 3)\n",
    "\n",
    "#Parameters of pipelines can be set using ‘__’ separated parameter names:\n",
    "\n",
    "estimator = GridSearchCV(pipe,\n",
    "                         dict(pca__n_components=n_components,\n",
    "                              logistic__C=Cs))\n",
    "estimator.fit(X_digits, y_digits)\n",
    "\n",
    "plt.axvline(estimator.best_estimator_.named_steps['pca'].n_components,\n",
    "            linestyle=':', label='n_components chosen')\n",
    "plt.legend(prop=dict(size=12))\n",
    "plt.show()"
   ]
  },
  {
   "cell_type": "markdown",
   "metadata": {},
   "source": [
    "# Multi-Layer Perceptron"
   ]
  },
  {
   "cell_type": "code",
   "execution_count": 67,
   "metadata": {
    "collapsed": false,
    "scrolled": false
   },
   "outputs": [
    {
     "name": "stdout",
     "output_type": "stream",
     "text": [
      "Confusion Matrix\n",
      "[[47  9]\n",
      " [13 21]]\n",
      "\n",
      "\n",
      "Classification Report\n",
      "             precision    recall  f1-score   support\n",
      "\n",
      "          0       0.78      0.84      0.81        56\n",
      "          1       0.70      0.62      0.66        34\n",
      "\n",
      "avg / total       0.75      0.76      0.75        90\n",
      "\n",
      "\n",
      "\n",
      "Cross Validation Scores\n",
      "Accuracy: 0.73 (+/- 0.13)\n"
     ]
    }
   ],
   "source": [
    "clf = MLPClassifier()\n",
    "\n",
    "clf.fit(X_train, y_train);\n",
    "\n",
    "pred = clf.predict(X_test);\n",
    "pred_clf = clf.predict(X_test);\n",
    "\n",
    "print(\"Confusion Matrix\")\n",
    "print(confusion_matrix(y_test, pred));\n",
    "print(\"\\n\")\n",
    "\n",
    "print(\"Classification Report\")\n",
    "print(classification_report(y_test, pred));\n",
    "print(\"\\n\")\n",
    "\n",
    "print(\"Cross Validation Scores\")\n",
    "scores = cross_val_score(clf, train_df.drop('Survived', axis=1), train_df['Survived'],  cv=10)\n",
    "print(\"Accuracy: %0.2f (+/- %0.2f)\" % (scores.mean(), scores.std() * 2))"
   ]
  },
  {
   "cell_type": "code",
   "execution_count": 39,
   "metadata": {
    "collapsed": false,
    "scrolled": false
   },
   "outputs": [
    {
     "name": "stderr",
     "output_type": "stream",
     "text": [
      "C:\\ProgramData\\Anaconda3\\lib\\site-packages\\sklearn\\neural_network\\multilayer_perceptron.py:563: ConvergenceWarning:\n",
      "\n",
      "Stochastic Optimizer: Maximum iterations reached and the optimization hasn't converged yet.\n",
      "\n",
      "C:\\ProgramData\\Anaconda3\\lib\\site-packages\\sklearn\\neural_network\\multilayer_perceptron.py:563: ConvergenceWarning:\n",
      "\n",
      "Stochastic Optimizer: Maximum iterations reached and the optimization hasn't converged yet.\n",
      "\n",
      "C:\\ProgramData\\Anaconda3\\lib\\site-packages\\sklearn\\neural_network\\multilayer_perceptron.py:563: ConvergenceWarning:\n",
      "\n",
      "Stochastic Optimizer: Maximum iterations reached and the optimization hasn't converged yet.\n",
      "\n",
      "C:\\ProgramData\\Anaconda3\\lib\\site-packages\\sklearn\\neural_network\\multilayer_perceptron.py:563: ConvergenceWarning:\n",
      "\n",
      "Stochastic Optimizer: Maximum iterations reached and the optimization hasn't converged yet.\n",
      "\n",
      "C:\\ProgramData\\Anaconda3\\lib\\site-packages\\sklearn\\neural_network\\multilayer_perceptron.py:563: ConvergenceWarning:\n",
      "\n",
      "Stochastic Optimizer: Maximum iterations reached and the optimization hasn't converged yet.\n",
      "\n"
     ]
    },
    {
     "name": "stdout",
     "output_type": "stream",
     "text": [
      "Best Score\n",
      "0.808988764045\n",
      "\n",
      "\n",
      "Best Parameters\n",
      "\n",
      "\n",
      "Best Estimator\n"
     ]
    },
    {
     "data": {
      "text/plain": [
       "MLPClassifier(activation='relu', alpha=0.0001, batch_size='auto', beta_1=0.9,\n",
       "       beta_2=0.999, early_stopping=False, epsilon=1e-08,\n",
       "       hidden_layer_sizes=(100,), learning_rate='constant',\n",
       "       learning_rate_init=0.001, max_iter=200, momentum=0.9,\n",
       "       nesterovs_momentum=True, power_t=0.5, random_state=None,\n",
       "       shuffle=True, solver='adam', tol=0.0001, validation_fraction=0.1,\n",
       "       verbose=False, warm_start=False)"
      ]
     },
     "execution_count": 39,
     "metadata": {},
     "output_type": "execute_result"
    }
   ],
   "source": [
    "param_grid = [{'activation': ['identity', 'logistic', 'tanh', 'relu']              }]\n",
    "\n",
    "grid = GridSearchCV(clf, param_grid, cv=5, scoring='accuracy')\n",
    "\n",
    "grid.fit(X_train, y_train)\n",
    "\n",
    "print('Best Score')\n",
    "print(grid.best_score_)\n",
    "print('\\n')\n",
    "\n",
    "#print('Mean Test Score')\n",
    "#print(grid.cv_results_['mean_train_score'])\n",
    "#print('\\n')\n",
    "\n",
    "print('Best Parameters')\n",
    "grid.best_params_\n",
    "print('\\n')\n",
    "\n",
    "print('Best Estimator')\n",
    "grid.best_estimator_"
   ]
  },
  {
   "cell_type": "code",
   "execution_count": 68,
   "metadata": {
    "collapsed": false
   },
   "outputs": [],
   "source": [
    "submission_mlp = pd.DataFrame({\n",
    "        \"PassengerId\": passengerid,\n",
    "        \"Survived\": clf.predict(test_df.values)\n",
    "    })\n",
    "\n",
    "#submission.to_csv('submissions/clf_submission.csv', index=False)"
   ]
  },
  {
   "cell_type": "markdown",
   "metadata": {
    "collapsed": true
   },
   "source": [
    "# Ensembling"
   ]
  },
  {
   "cell_type": "code",
   "execution_count": 71,
   "metadata": {
    "collapsed": false
   },
   "outputs": [
    {
     "data": {
      "text/html": [
       "<div>\n",
       "<table border=\"1\" class=\"dataframe\">\n",
       "  <thead>\n",
       "    <tr style=\"text-align: right;\">\n",
       "      <th></th>\n",
       "      <th>knn</th>\n",
       "      <th>svc</th>\n",
       "      <th>dtree</th>\n",
       "      <th>rfc</th>\n",
       "      <th>gbm</th>\n",
       "      <th>lr</th>\n",
       "      <th>gnb</th>\n",
       "      <th>lda</th>\n",
       "      <th>qda</th>\n",
       "      <th>clf</th>\n",
       "    </tr>\n",
       "  </thead>\n",
       "  <tbody>\n",
       "    <tr>\n",
       "      <th>0</th>\n",
       "      <td>1</td>\n",
       "      <td>1</td>\n",
       "      <td>1</td>\n",
       "      <td>1</td>\n",
       "      <td>1</td>\n",
       "      <td>1</td>\n",
       "      <td>1</td>\n",
       "      <td>1</td>\n",
       "      <td>1</td>\n",
       "      <td>1</td>\n",
       "    </tr>\n",
       "    <tr>\n",
       "      <th>1</th>\n",
       "      <td>0</td>\n",
       "      <td>0</td>\n",
       "      <td>0</td>\n",
       "      <td>0</td>\n",
       "      <td>0</td>\n",
       "      <td>0</td>\n",
       "      <td>0</td>\n",
       "      <td>0</td>\n",
       "      <td>0</td>\n",
       "      <td>0</td>\n",
       "    </tr>\n",
       "    <tr>\n",
       "      <th>2</th>\n",
       "      <td>1</td>\n",
       "      <td>0</td>\n",
       "      <td>0</td>\n",
       "      <td>0</td>\n",
       "      <td>0</td>\n",
       "      <td>0</td>\n",
       "      <td>0</td>\n",
       "      <td>0</td>\n",
       "      <td>0</td>\n",
       "      <td>0</td>\n",
       "    </tr>\n",
       "    <tr>\n",
       "      <th>3</th>\n",
       "      <td>0</td>\n",
       "      <td>0</td>\n",
       "      <td>0</td>\n",
       "      <td>0</td>\n",
       "      <td>1</td>\n",
       "      <td>1</td>\n",
       "      <td>1</td>\n",
       "      <td>1</td>\n",
       "      <td>1</td>\n",
       "      <td>1</td>\n",
       "    </tr>\n",
       "    <tr>\n",
       "      <th>4</th>\n",
       "      <td>0</td>\n",
       "      <td>1</td>\n",
       "      <td>1</td>\n",
       "      <td>1</td>\n",
       "      <td>0</td>\n",
       "      <td>1</td>\n",
       "      <td>1</td>\n",
       "      <td>1</td>\n",
       "      <td>1</td>\n",
       "      <td>1</td>\n",
       "    </tr>\n",
       "  </tbody>\n",
       "</table>\n",
       "</div>"
      ],
      "text/plain": [
       "   knn  svc  dtree  rfc  gbm  lr  gnb  lda  qda  clf\n",
       "0    1    1      1    1    1   1    1    1    1    1\n",
       "1    0    0      0    0    0   0    0    0    0    0\n",
       "2    1    0      0    0    0   0    0    0    0    0\n",
       "3    0    0      0    0    1   1    1    1    1    1\n",
       "4    0    1      1    1    0   1    1    1    1    1"
      ]
     },
     "execution_count": 71,
     "metadata": {},
     "output_type": "execute_result"
    }
   ],
   "source": [
    "data = np.array([pred_knn, pred_svc, pred_dtree, pred_rfc, pred_gbm, pred_lr, pred_gnb, pred_lda, pred_qda, pred_clf]).transpose() \n",
    "\n",
    "answers = pd.DataFrame(data=data,\n",
    "                       columns = ['knn', 'svc', 'dtree', 'rfc', 'gbm', 'lr', 'gnb', 'lda', 'qda', 'clf'])\n",
    "\n",
    "answers.head()"
   ]
  },
  {
   "cell_type": "code",
   "execution_count": 72,
   "metadata": {
    "collapsed": false
   },
   "outputs": [
    {
     "data": {
      "text/plain": [
       "<matplotlib.text.Text at 0x13ac750e2b0>"
      ]
     },
     "execution_count": 72,
     "metadata": {},
     "output_type": "execute_result"
    },
    {
     "data": {
      "image/png": "[encoded data removed]",
      "text/plain": [
       "<matplotlib.figure.Figure at 0x13ac74cc358>"
      ]
     },
     "metadata": {},
     "output_type": "display_data"
    }
   ],
   "source": [
    "sns.heatmap(answers.corr(), cmap='coolwarm')\n",
    "plt.title('corr()')"
   ]
  },
  {
   "cell_type": "markdown",
   "metadata": {},
   "source": [
    "RFC, LR, LDA, SVC, GBM seem good candidates"
   ]
  },
  {
   "cell_type": "code",
   "execution_count": 40,
   "metadata": {
    "collapsed": false
   },
   "outputs": [
    {
     "data": {
      "text/plain": [
       "array([ 1.,  0.,  0.,  1.,  1.,  0.,  0.,  0.,  0.,  0.,  0.,  0.,  1.,\n",
       "        1.,  0.,  1.,  1.,  0.,  0.,  0.,  0.,  0.,  1.,  1.,  0.,  0.,\n",
       "        1.,  1.,  0.,  0.,  0.,  1.,  0.,  0.,  0.,  1.,  0.,  0.,  0.,\n",
       "        1.,  0.,  0.,  0.,  0.,  0.,  1.,  1.,  0.,  1.,  0.,  1.,  0.,\n",
       "        1.,  1.,  1.,  1.,  0.,  0.,  1.,  0.,  1.,  0.,  0.,  0.,  0.,\n",
       "        0.,  0.,  0.,  0.,  0.,  0.,  0.,  0.,  0.,  0.,  1.,  0.,  0.,\n",
       "        1.,  0.,  1.,  0.,  0.,  1.,  1.,  1.,  0.,  0.,  0.,  1.])"
      ]
     },
     "execution_count": 40,
     "metadata": {},
     "output_type": "execute_result"
    }
   ],
   "source": [
    "pred = np.rint((pred_rfc + pred_lr + pred_lda + pred_svc + pred_gbm)/5)\n",
    "\n",
    "pred"
   ]
  },
  {
   "cell_type": "code",
   "execution_count": 47,
   "metadata": {
    "collapsed": false
   },
   "outputs": [
    {
     "name": "stdout",
     "output_type": "stream",
     "text": [
      "Classification Report\n",
      "             precision    recall  f1-score   support\n",
      "\n",
      "          0       0.74      0.92      0.82        49\n",
      "          1       0.86      0.61      0.71        41\n",
      "\n",
      "avg / total       0.79      0.78      0.77        90\n",
      "\n",
      "\n",
      "\n",
      "Classification Report\n",
      "             precision    recall  f1-score   support\n",
      "\n",
      "          0       0.75      0.90      0.81        49\n",
      "          1       0.84      0.63      0.72        41\n",
      "\n",
      "avg / total       0.79      0.78      0.77        90\n",
      "\n",
      "\n",
      "\n"
     ]
    }
   ],
   "source": [
    "pred = np.rint(((76*pred_rfc) + (72*pred_lr) + (73*pred_lda) + (79*pred_svc) + (78*pred_gbm))/(76+72+73+79+78))\n",
    "\n",
    "print(\"Classification Report\")\n",
    "print(classification_report(y_test, pred_svc));\n",
    "print(\"\\n\")\n",
    "\n",
    "print(\"Classification Report\")\n",
    "print(classification_report(y_test, pred));\n",
    "print(\"\\n\")"
   ]
  },
  {
   "cell_type": "code",
   "execution_count": 56,
   "metadata": {
    "collapsed": false
   },
   "outputs": [
    {
     "data": {
      "text/plain": [
       "<matplotlib.text.Text at 0x13ac73f68d0>"
      ]
     },
     "execution_count": 56,
     "metadata": {},
     "output_type": "execute_result"
    },
    {
     "data": {
      "image/png": "[encoded data removed]",
      "text/plain": [
       "<matplotlib.figure.Figure at 0x13ac73abf60>"
      ]
     },
     "metadata": {},
     "output_type": "display_data"
    }
   ],
   "source": [
    "data = np.array([submission_svc['Survived'].values, submission_rfc['Survived'].values, submission_gbm['Survived'].values]).transpose() \n",
    "\n",
    "answers = pd.DataFrame(data=data,\n",
    "                       columns = ['svc', 'rfc', 'gbm'])\n",
    "\n",
    "sns.heatmap(answers.corr(), cmap='coolwarm')\n",
    "plt.title('corr()')"
   ]
  },
  {
   "cell_type": "code",
   "execution_count": 63,
   "metadata": {
    "collapsed": false
   },
   "outputs": [
    {
     "data": {
      "text/plain": [
       "array([0, 1, 0, 0, 1, 0, 1, 0, 1, 0, 0, 0, 1, 0, 1, 1, 0, 0, 0, 1, 0, 1, 1,\n",
       "       1, 1, 0, 1, 0, 0, 0, 0, 0, 0, 1, 0, 0, 1, 0, 0, 0, 0, 0, 0, 1, 1, 0,\n",
       "       0, 0, 1, 0, 1, 0, 1, 1, 0, 0, 0, 0, 0, 1, 0, 0, 0, 1, 1, 1, 1, 0, 0,\n",
       "       1, 1, 0, 0, 0, 1, 0, 0, 1, 0, 1, 1, 0, 0, 0, 0, 0, 1, 1, 1, 1, 1, 0,\n",
       "       1, 0, 0, 0, 1, 0, 1, 0, 1, 0, 0, 0, 1, 0, 0, 0, 0, 0, 0, 1, 1, 1, 1,\n",
       "       0, 0, 1, 0, 1, 1, 0, 1, 0, 0, 0, 0, 1, 0, 0, 0, 0, 0, 0, 0, 0, 0, 0,\n",
       "       1, 0, 0, 1, 0, 0, 0, 0, 0, 0, 0, 0, 1, 0, 0, 1, 0, 0, 1, 1, 0, 1, 1,\n",
       "       1, 1, 0, 0, 0, 0, 0, 1, 0, 0, 0, 0, 0, 0, 1, 1, 0, 1, 1, 0, 0, 1, 0,\n",
       "       1, 0, 1, 0, 0, 0, 0, 0, 1, 0, 1, 0, 1, 1, 0, 1, 0, 1, 1, 1, 0, 0, 1,\n",
       "       0, 1, 0, 0, 0, 0, 1, 0, 0, 1, 0, 1, 0, 1, 0, 1, 0, 1, 0, 0, 1, 0, 0,\n",
       "       1, 1, 0, 0, 0, 0, 0, 0, 1, 1, 1, 1, 0, 0, 1, 0, 1, 0, 1, 1, 1, 0, 0,\n",
       "       0, 0, 0, 0, 0, 1, 0, 0, 0, 1, 1, 0, 0, 0, 0, 1, 0, 0, 0, 1, 0, 0, 1,\n",
       "       0, 0, 0, 0, 0, 1, 1, 0, 1, 0, 0, 0, 0, 0, 0, 0, 0, 1, 0, 0, 1, 0, 0,\n",
       "       0, 0, 0, 0, 0, 1, 1, 0, 1, 0, 1, 0, 0, 0, 1, 1, 1, 0, 0, 0, 0, 0, 0,\n",
       "       0, 0, 1, 0, 1, 0, 0, 0, 1, 0, 0, 0, 0, 0, 0, 0, 0, 1, 0, 0, 0, 1, 1,\n",
       "       1, 0, 1, 0, 1, 1, 0, 0, 0, 1, 0, 1, 0, 0, 0, 0, 1, 1, 0, 1, 0, 0, 1,\n",
       "       1, 0, 0, 1, 0, 0, 1, 1, 0, 0, 0, 0, 0, 0, 1, 0, 0, 1, 0, 0, 0, 0, 0,\n",
       "       1, 1, 0, 0, 1, 0, 1, 0, 0, 1, 0, 1, 0, 0, 0, 0, 0, 1, 1, 1, 1, 1, 0,\n",
       "       1, 0, 0, 1])"
      ]
     },
     "execution_count": 63,
     "metadata": {},
     "output_type": "execute_result"
    }
   ],
   "source": [
    "survived.astype(int)"
   ]
  },
  {
   "cell_type": "code",
   "execution_count": 64,
   "metadata": {
    "collapsed": true
   },
   "outputs": [],
   "source": [
    "survived = np.rint((submission_svc['Survived'].values + submission_rfc['Survived'].values + submission_gbm['Survived'].values)/3).astype(int)\n",
    "\n",
    "submission = pd.DataFrame({\n",
    "        \"PassengerId\": passengerid,\n",
    "        \"Survived\": survived\n",
    "    })\n",
    "\n",
    "submission.to_csv('submissions/ensemble_submission.csv', index=False)"
   ]
  },
  {
   "cell_type": "code",
   "execution_count": 75,
   "metadata": {
    "collapsed": false
   },
   "outputs": [],
   "source": [
    "survived = np.rint((submission_svc['Survived'].values + \n",
    "                    submission_lr['Survived'].values + \n",
    "                    submission_gbm['Survived'].values + \n",
    "                    submission_gnb['Survived'].values\n",
    "                   )/4).astype(int)\n",
    "\n",
    "submission = pd.DataFrame({\n",
    "        \"PassengerId\": passengerid,\n",
    "        \"Survived\": survived\n",
    "    })\n",
    "\n",
    "submission.to_csv('submissions/ensemble_svc_lr_gbm_gnb_submission.csv', index=False)"
   ]
  },
  {
   "cell_type": "markdown",
   "metadata": {},
   "source": [
    "79.4% - Top 27%"
   ]
  },
  {
   "cell_type": "code",
   "execution_count": 21,
   "metadata": {
    "collapsed": true
   },
   "outputs": [],
   "source": [
    "survived = np.rint((submission_svc['Survived'].values + \n",
    "                    submission_lr['Survived'].values + \n",
    "                    submission_gnb['Survived'].values\n",
    "                   )/4).astype(int)\n",
    "\n",
    "submission = pd.DataFrame({\n",
    "        \"PassengerId\": passengerid,\n",
    "        \"Survived\": survived\n",
    "    })\n",
    "\n",
    "submission.to_csv('submissions/ensemble_svc_lr_gnb_submission.csv', index=False)"
   ]
  },
  {
   "cell_type": "markdown",
   "metadata": {},
   "source": [
    "79.9 - Top 20%"
   ]
  },
  {
   "cell_type": "code",
   "execution_count": 25,
   "metadata": {
    "collapsed": true
   },
   "outputs": [],
   "source": [
    "survived = np.rint((submission_svc['Survived'].values + \n",
    "                    submission_lr['Survived'].values + \n",
    "                    submission_gnb['Survived'].values + \n",
    "                    submission_knn['Survived'].values\n",
    "                   )/4).astype(int)\n",
    "\n",
    "submission = pd.DataFrame({\n",
    "        \"PassengerId\": passengerid,\n",
    "        \"Survived\": survived\n",
    "    })\n",
    "\n",
    "submission.to_csv('submissions/ensemble_svc_lr_gnb_knn_submission.csv', index=False)"
   ]
  },
  {
   "cell_type": "code",
   "execution_count": 71,
   "metadata": {
    "collapsed": true
   },
   "outputs": [],
   "source": [
    "survived = np.rint((submission_svc['Survived'].values + \n",
    "                    submission_lr['Survived'].values + \n",
    "                    submission_gnb['Survived'].values + \n",
    "                    submission_qda['Survived'].values + \n",
    "                    submission_knn['Survived'].values +\n",
    "                    submission_mlp['Survived'].values\n",
    "                   )/6).astype(int)\n",
    "\n",
    "submission = pd.DataFrame({\n",
    "        \"PassengerId\": passengerid,\n",
    "        \"Survived\": survived\n",
    "    })\n",
    "\n",
    "submission.to_csv('submissions/ensemble_svc_lr_gnb_qda_knn_mlp_submission.csv', index=False)"
   ]
  },
  {
   "cell_type": "markdown",
   "metadata": {},
   "source": [
    "75%"
   ]
  },
  {
   "cell_type": "code",
   "execution_count": 29,
   "metadata": {
    "collapsed": true
   },
   "outputs": [],
   "source": [
    "survived = np.rint((submission_svc['Survived'].values*submission_lr['Survived'].values*submission_gnb['Survived'].values)**(1/3)).astype(int)\n",
    "\n",
    "submission = pd.DataFrame({\n",
    "        \"PassengerId\": passengerid,\n",
    "        \"Survived\": survived\n",
    "    })\n",
    "\n",
    "submission.to_csv('submissions/ensemble_svc_lr_gnb_geomean_submission.csv', index=False)"
   ]
  },
  {
   "cell_type": "markdown",
   "metadata": {},
   "source": [
    "geometric mean of support vector machine, linear regression, gaussian naive bayes gets 77.9 %"
   ]
  },
  {
   "cell_type": "markdown",
   "metadata": {},
   "source": [
    "# Neural Networks"
   ]
  },
  {
   "cell_type": "code",
   "execution_count": 41,
   "metadata": {
    "collapsed": false
   },
   "outputs": [
    {
     "data": {
      "text/plain": [
       "(891, 7)"
      ]
     },
     "execution_count": 41,
     "metadata": {},
     "output_type": "execute_result"
    }
   ],
   "source": [
    "np.shape(scaled_train)"
   ]
  },
  {
   "cell_type": "code",
   "execution_count": 60,
   "metadata": {
    "collapsed": false
   },
   "outputs": [
    {
     "data": {
      "text/plain": [
       "891"
      ]
     },
     "execution_count": 60,
     "metadata": {},
     "output_type": "execute_result"
    }
   ],
   "source": [
    "scaled_train.shape[0]"
   ]
  },
  {
   "cell_type": "code",
   "execution_count": 62,
   "metadata": {
    "collapsed": false
   },
   "outputs": [],
   "source": [
    "scaled_train_reshaped = scaled_train.reshape(scaled_train.shape[0] * 7)"
   ]
  },
  {
   "cell_type": "code",
   "execution_count": 63,
   "metadata": {
    "collapsed": false
   },
   "outputs": [
    {
     "name": "stdout",
     "output_type": "stream",
     "text": [
      "_________________________________________________________________\n",
      "Layer (type)                 Output Shape              Param #   \n",
      "=================================================================\n",
      "dense_15 (Dense)             (None, 8)                 7136      \n",
      "_________________________________________________________________\n",
      "dropout_9 (Dropout)          (None, 8)                 0         \n",
      "_________________________________________________________________\n",
      "dense_16 (Dense)             (None, 8)                 72        \n",
      "_________________________________________________________________\n",
      "dropout_10 (Dropout)         (None, 8)                 0         \n",
      "_________________________________________________________________\n",
      "dense_17 (Dense)             (None, 1)                 9         \n",
      "=================================================================\n",
      "Total params: 7,217\n",
      "Trainable params: 7,217\n",
      "Non-trainable params: 0\n",
      "_________________________________________________________________\n"
     ]
    }
   ],
   "source": [
    "# Design Model\n",
    "\n",
    "model = Sequential()\n",
    "\n",
    "model.add(Dense(8, activation='relu', input_dim=(891)))\n",
    "model.add(Dropout(0.05))\n",
    "model.add(Dense(8, activation='relu'))\n",
    "model.add(Dropout(0.05))\n",
    "model.add(Dense(1, activation='softmax'))\n",
    "\n",
    "model.summary()"
   ]
  },
  {
   "cell_type": "code",
   "execution_count": 64,
   "metadata": {
    "collapsed": true
   },
   "outputs": [],
   "source": [
    "# Compile\n",
    "\n",
    "model.compile(optimizer=RMSprop(lr=0.001),\n",
    "              loss='categorical_crossentropy',\n",
    "              metrics=['accuracy'])"
   ]
  },
  {
   "cell_type": "code",
   "execution_count": null,
   "metadata": {
    "collapsed": false
   },
   "outputs": [],
   "source": [
    "history=model.fit(scaled_train_reshaped, y_train, \n",
    "                  validation_split = 0.05, \n",
    "                  epochs=5, batch_size=16)"
   ]
  },
  {
   "cell_type": "code",
   "execution_count": null,
   "metadata": {
    "collapsed": true
   },
   "outputs": [],
   "source": []
  }
 ],
 "metadata": {
  "kernelspec": {
   "display_name": "Python 3",
   "language": "python",
   "name": "python3"
  },
  "language_info": {
   "codemirror_mode": {
    "name": "ipython",
    "version": 3
   },
   "file_extension": ".py",
   "mimetype": "text/x-python",
   "name": "python",
   "nbconvert_exporter": "python",
   "pygments_lexer": "ipython3",
   "version": "3.6.0"
  }
 },
 "nbformat": 4,
 "nbformat_minor": 2
}
